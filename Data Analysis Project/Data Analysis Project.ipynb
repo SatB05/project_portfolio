{
 "cells": [
  {
   "cell_type": "code",
   "execution_count": 1,
   "id": "45722a93",
   "metadata": {},
   "outputs": [],
   "source": [
    "import pandas as pd\n",
    "import matplotlib.pyplot as plt\n",
    "import numpy as np\n",
    "import math\n",
    "import random\n",
    "import re\n",
    "import os"
   ]
  },
  {
   "cell_type": "code",
   "execution_count": 2,
   "id": "dec9cf99",
   "metadata": {},
   "outputs": [],
   "source": [
    "file_path = \"D:\\\\DATA SCIENCE\\\\DATASETS\\\\Python\\\\Sales_Data\\\\\"\n",
    "file_name = \"Sales_April_2019.csv\""
   ]
  },
  {
   "cell_type": "markdown",
   "id": "3cc86341",
   "metadata": {},
   "source": [
    "# DAY 21"
   ]
  },
  {
   "cell_type": "markdown",
   "id": "f9c657d6",
   "metadata": {},
   "source": [
    "## f string"
   ]
  },
  {
   "cell_type": "code",
   "execution_count": 3,
   "id": "9747a09c",
   "metadata": {},
   "outputs": [
    {
     "data": {
      "text/plain": [
       "'D:\\\\DATA SCIENCE\\\\DATASETS\\\\Python\\\\Sales_Data\\\\Sales_April_2019.csv'"
      ]
     },
     "execution_count": 3,
     "metadata": {},
     "output_type": "execute_result"
    }
   ],
   "source": [
    "f'{file_path}{file_name}'"
   ]
  },
  {
   "cell_type": "code",
   "execution_count": 4,
   "id": "d0e745b3",
   "metadata": {},
   "outputs": [],
   "source": [
    "full_path = f'{file_path}{file_name}'"
   ]
  },
  {
   "cell_type": "code",
   "execution_count": 5,
   "id": "be5b1182",
   "metadata": {},
   "outputs": [],
   "source": [
    "april19 = pd.read_csv(full_path)"
   ]
  },
  {
   "cell_type": "markdown",
   "id": "a27fb0ed",
   "metadata": {},
   "source": [
    "****************************************"
   ]
  },
  {
   "cell_type": "code",
   "execution_count": 6,
   "id": "d8e4796c",
   "metadata": {},
   "outputs": [
    {
     "data": {
      "text/plain": [
       "Order ID            object\n",
       "Product             object\n",
       "Quantity Ordered    object\n",
       "Price Each          object\n",
       "Order Date          object\n",
       "Purchase Address    object\n",
       "dtype: object"
      ]
     },
     "execution_count": 6,
     "metadata": {},
     "output_type": "execute_result"
    }
   ],
   "source": [
    "april19.dtypes"
   ]
  },
  {
   "cell_type": "code",
   "execution_count": 7,
   "id": "3cac6cbc",
   "metadata": {},
   "outputs": [
    {
     "data": {
      "text/html": [
       "<div>\n",
       "<style scoped>\n",
       "    .dataframe tbody tr th:only-of-type {\n",
       "        vertical-align: middle;\n",
       "    }\n",
       "\n",
       "    .dataframe tbody tr th {\n",
       "        vertical-align: top;\n",
       "    }\n",
       "\n",
       "    .dataframe thead th {\n",
       "        text-align: right;\n",
       "    }\n",
       "</style>\n",
       "<table border=\"1\" class=\"dataframe\">\n",
       "  <thead>\n",
       "    <tr style=\"text-align: right;\">\n",
       "      <th></th>\n",
       "      <th>Order ID</th>\n",
       "      <th>Product</th>\n",
       "      <th>Quantity Ordered</th>\n",
       "      <th>Price Each</th>\n",
       "      <th>Order Date</th>\n",
       "      <th>Purchase Address</th>\n",
       "    </tr>\n",
       "  </thead>\n",
       "  <tbody>\n",
       "    <tr>\n",
       "      <th>18286</th>\n",
       "      <td>194003</td>\n",
       "      <td>Apple Airpods Headphones</td>\n",
       "      <td>1</td>\n",
       "      <td>150</td>\n",
       "      <td>04/18/19 11:38</td>\n",
       "      <td>189 Lincoln St, Boston, MA 02215</td>\n",
       "    </tr>\n",
       "    <tr>\n",
       "      <th>1355</th>\n",
       "      <td>177845</td>\n",
       "      <td>Lightning Charging Cable</td>\n",
       "      <td>1</td>\n",
       "      <td>14.95</td>\n",
       "      <td>04/22/19 13:21</td>\n",
       "      <td>641 Meadow St, San Francisco, CA 94016</td>\n",
       "    </tr>\n",
       "    <tr>\n",
       "      <th>2586</th>\n",
       "      <td>179034</td>\n",
       "      <td>Flatscreen TV</td>\n",
       "      <td>1</td>\n",
       "      <td>300</td>\n",
       "      <td>04/21/19 16:05</td>\n",
       "      <td>260 Lake St, New York City, NY 10001</td>\n",
       "    </tr>\n",
       "    <tr>\n",
       "      <th>14281</th>\n",
       "      <td>190177</td>\n",
       "      <td>AA Batteries (4-pack)</td>\n",
       "      <td>1</td>\n",
       "      <td>3.84</td>\n",
       "      <td>04/11/19 10:51</td>\n",
       "      <td>262 Elm St, Boston, MA 02215</td>\n",
       "    </tr>\n",
       "    <tr>\n",
       "      <th>6115</th>\n",
       "      <td>182403</td>\n",
       "      <td>27in 4K Gaming Monitor</td>\n",
       "      <td>1</td>\n",
       "      <td>389.99</td>\n",
       "      <td>04/22/19 12:10</td>\n",
       "      <td>901 Spruce St, Dallas, TX 75001</td>\n",
       "    </tr>\n",
       "  </tbody>\n",
       "</table>\n",
       "</div>"
      ],
      "text/plain": [
       "      Order ID                   Product Quantity Ordered Price Each  \\\n",
       "18286   194003  Apple Airpods Headphones                1        150   \n",
       "1355    177845  Lightning Charging Cable                1      14.95   \n",
       "2586    179034             Flatscreen TV                1        300   \n",
       "14281   190177     AA Batteries (4-pack)                1       3.84   \n",
       "6115    182403    27in 4K Gaming Monitor                1     389.99   \n",
       "\n",
       "           Order Date                        Purchase Address  \n",
       "18286  04/18/19 11:38        189 Lincoln St, Boston, MA 02215  \n",
       "1355   04/22/19 13:21  641 Meadow St, San Francisco, CA 94016  \n",
       "2586   04/21/19 16:05    260 Lake St, New York City, NY 10001  \n",
       "14281  04/11/19 10:51            262 Elm St, Boston, MA 02215  \n",
       "6115   04/22/19 12:10         901 Spruce St, Dallas, TX 75001  "
      ]
     },
     "execution_count": 7,
     "metadata": {},
     "output_type": "execute_result"
    }
   ],
   "source": [
    "april19.sample(5)"
   ]
  },
  {
   "cell_type": "markdown",
   "id": "7b691679",
   "metadata": {},
   "source": [
    "#### Read data for all the months"
   ]
  },
  {
   "cell_type": "code",
   "execution_count": 8,
   "id": "03d03afa",
   "metadata": {},
   "outputs": [
    {
     "data": {
      "text/plain": [
       "['Sales_April_2019.csv',\n",
       " 'Sales_August_2019.csv',\n",
       " 'Sales_December_2019.csv',\n",
       " 'Sales_February_2019.csv',\n",
       " 'Sales_January_2019.csv',\n",
       " 'Sales_July_2019.csv',\n",
       " 'Sales_June_2019.csv',\n",
       " 'Sales_March_2019.csv',\n",
       " 'Sales_May_2019.csv',\n",
       " 'Sales_November_2019.csv',\n",
       " 'Sales_October_2019.csv',\n",
       " 'Sales_September_2019.csv']"
      ]
     },
     "execution_count": 8,
     "metadata": {},
     "output_type": "execute_result"
    }
   ],
   "source": [
    "os.listdir(file_path)"
   ]
  },
  {
   "cell_type": "code",
   "execution_count": 9,
   "id": "f0181fbf",
   "metadata": {},
   "outputs": [
    {
     "data": {
      "text/plain": [
       "list"
      ]
     },
     "execution_count": 9,
     "metadata": {},
     "output_type": "execute_result"
    }
   ],
   "source": [
    "type(os.listdir(file_path))"
   ]
  },
  {
   "cell_type": "code",
   "execution_count": 10,
   "id": "78980da7",
   "metadata": {
    "scrolled": true
   },
   "outputs": [
    {
     "name": "stdout",
     "output_type": "stream",
     "text": [
      "the size of final df is (18383, 7). the size of df_temp is (18383, 7)\n",
      "the size of final df is (30394, 7). the size of df_temp is (12011, 7)\n",
      "the size of final df is (55511, 7). the size of df_temp is (25117, 7)\n",
      "the size of final df is (67547, 7). the size of df_temp is (12036, 7)\n",
      "the size of final df is (77270, 7). the size of df_temp is (9723, 7)\n",
      "the size of final df is (91641, 7). the size of df_temp is (14371, 7)\n",
      "the size of final df is (105263, 7). the size of df_temp is (13622, 7)\n",
      "the size of final df is (120489, 7). the size of df_temp is (15226, 7)\n",
      "the size of final df is (137124, 7). the size of df_temp is (16635, 7)\n",
      "the size of final df is (154785, 7). the size of df_temp is (17661, 7)\n",
      "the size of final df is (175164, 7). the size of df_temp is (20379, 7)\n",
      "the size of final df is (186850, 7). the size of df_temp is (11686, 7)\n"
     ]
    }
   ],
   "source": [
    "annual_sales = pd.DataFrame()\n",
    "for files in os.listdir(file_path):\n",
    "    full_path = f'{file_path}{files}'\n",
    "    df_temp = pd.read_csv(full_path)\n",
    "    df_temp['src_file'] = files\n",
    "    annual_sales = pd.concat([annual_sales,df_temp])\n",
    "    print(f'the size of final df is {annual_sales.shape}. the size of df_temp is {df_temp.shape}')"
   ]
  },
  {
   "cell_type": "code",
   "execution_count": 11,
   "id": "604c8a77",
   "metadata": {},
   "outputs": [
    {
     "data": {
      "text/html": [
       "<div>\n",
       "<style scoped>\n",
       "    .dataframe tbody tr th:only-of-type {\n",
       "        vertical-align: middle;\n",
       "    }\n",
       "\n",
       "    .dataframe tbody tr th {\n",
       "        vertical-align: top;\n",
       "    }\n",
       "\n",
       "    .dataframe thead th {\n",
       "        text-align: right;\n",
       "    }\n",
       "</style>\n",
       "<table border=\"1\" class=\"dataframe\">\n",
       "  <thead>\n",
       "    <tr style=\"text-align: right;\">\n",
       "      <th></th>\n",
       "      <th>Order ID</th>\n",
       "      <th>Product</th>\n",
       "      <th>Quantity Ordered</th>\n",
       "      <th>Price Each</th>\n",
       "      <th>Order Date</th>\n",
       "      <th>Purchase Address</th>\n",
       "      <th>src_file</th>\n",
       "    </tr>\n",
       "  </thead>\n",
       "  <tbody>\n",
       "    <tr>\n",
       "      <th>7852</th>\n",
       "      <td>201555</td>\n",
       "      <td>Google Phone</td>\n",
       "      <td>1</td>\n",
       "      <td>600</td>\n",
       "      <td>05/21/19 13:28</td>\n",
       "      <td>449 Highland St, Los Angeles, CA 90001</td>\n",
       "      <td>Sales_May_2019.csv</td>\n",
       "    </tr>\n",
       "    <tr>\n",
       "      <th>10314</th>\n",
       "      <td>258046</td>\n",
       "      <td>AAA Batteries (4-pack)</td>\n",
       "      <td>1</td>\n",
       "      <td>2.99</td>\n",
       "      <td>09/29/19 15:22</td>\n",
       "      <td>524 7th St, Boston, MA 02215</td>\n",
       "      <td>Sales_September_2019.csv</td>\n",
       "    </tr>\n",
       "    <tr>\n",
       "      <th>8953</th>\n",
       "      <td>267904</td>\n",
       "      <td>Lightning Charging Cable</td>\n",
       "      <td>1</td>\n",
       "      <td>14.95</td>\n",
       "      <td>10/24/19 11:29</td>\n",
       "      <td>716 13th St, Atlanta, GA 30301</td>\n",
       "      <td>Sales_October_2019.csv</td>\n",
       "    </tr>\n",
       "    <tr>\n",
       "      <th>1026</th>\n",
       "      <td>151481</td>\n",
       "      <td>Wired Headphones</td>\n",
       "      <td>1</td>\n",
       "      <td>11.99</td>\n",
       "      <td>02/18/19 23:29</td>\n",
       "      <td>881 12th St, Seattle, WA 98101</td>\n",
       "      <td>Sales_February_2019.csv</td>\n",
       "    </tr>\n",
       "    <tr>\n",
       "      <th>13604</th>\n",
       "      <td>174998</td>\n",
       "      <td>27in 4K Gaming Monitor</td>\n",
       "      <td>1</td>\n",
       "      <td>389.99</td>\n",
       "      <td>03/19/19 22:13</td>\n",
       "      <td>99 8th St, San Francisco, CA 94016</td>\n",
       "      <td>Sales_March_2019.csv</td>\n",
       "    </tr>\n",
       "  </tbody>\n",
       "</table>\n",
       "</div>"
      ],
      "text/plain": [
       "      Order ID                   Product Quantity Ordered Price Each  \\\n",
       "7852    201555              Google Phone                1        600   \n",
       "10314   258046    AAA Batteries (4-pack)                1       2.99   \n",
       "8953    267904  Lightning Charging Cable                1      14.95   \n",
       "1026    151481          Wired Headphones                1      11.99   \n",
       "13604   174998    27in 4K Gaming Monitor                1     389.99   \n",
       "\n",
       "           Order Date                        Purchase Address  \\\n",
       "7852   05/21/19 13:28  449 Highland St, Los Angeles, CA 90001   \n",
       "10314  09/29/19 15:22            524 7th St, Boston, MA 02215   \n",
       "8953   10/24/19 11:29          716 13th St, Atlanta, GA 30301   \n",
       "1026   02/18/19 23:29          881 12th St, Seattle, WA 98101   \n",
       "13604  03/19/19 22:13      99 8th St, San Francisco, CA 94016   \n",
       "\n",
       "                       src_file  \n",
       "7852         Sales_May_2019.csv  \n",
       "10314  Sales_September_2019.csv  \n",
       "8953     Sales_October_2019.csv  \n",
       "1026    Sales_February_2019.csv  \n",
       "13604      Sales_March_2019.csv  "
      ]
     },
     "execution_count": 11,
     "metadata": {},
     "output_type": "execute_result"
    }
   ],
   "source": [
    "annual_sales.sample(5)"
   ]
  },
  {
   "cell_type": "markdown",
   "id": "2915aeb5",
   "metadata": {},
   "source": [
    "## SCDs\n",
    "\n",
    "https://towardsdatascience.com/data-analysts-primer-to-slowly-changing-dimensions-d087c8327e08"
   ]
  },
  {
   "cell_type": "code",
   "execution_count": 12,
   "id": "25cd7b23",
   "metadata": {},
   "outputs": [
    {
     "data": {
      "text/plain": [
       "Order ID            object\n",
       "Product             object\n",
       "Quantity Ordered    object\n",
       "Price Each          object\n",
       "Order Date          object\n",
       "Purchase Address    object\n",
       "src_file            object\n",
       "dtype: object"
      ]
     },
     "execution_count": 12,
     "metadata": {},
     "output_type": "execute_result"
    }
   ],
   "source": [
    "annual_sales.dtypes"
   ]
  },
  {
   "cell_type": "markdown",
   "id": "ed880678",
   "metadata": {},
   "source": [
    "Q: *Convert quantity to integer*"
   ]
  },
  {
   "cell_type": "code",
   "execution_count": 13,
   "id": "de26f090",
   "metadata": {},
   "outputs": [
    {
     "data": {
      "text/html": [
       "<div>\n",
       "<style scoped>\n",
       "    .dataframe tbody tr th:only-of-type {\n",
       "        vertical-align: middle;\n",
       "    }\n",
       "\n",
       "    .dataframe tbody tr th {\n",
       "        vertical-align: top;\n",
       "    }\n",
       "\n",
       "    .dataframe thead th {\n",
       "        text-align: right;\n",
       "    }\n",
       "</style>\n",
       "<table border=\"1\" class=\"dataframe\">\n",
       "  <thead>\n",
       "    <tr style=\"text-align: right;\">\n",
       "      <th></th>\n",
       "      <th>Order ID</th>\n",
       "      <th>Product</th>\n",
       "      <th>Quantity Ordered</th>\n",
       "      <th>Price Each</th>\n",
       "      <th>Order Date</th>\n",
       "      <th>Purchase Address</th>\n",
       "      <th>src_file</th>\n",
       "    </tr>\n",
       "  </thead>\n",
       "  <tbody>\n",
       "    <tr>\n",
       "      <th>0</th>\n",
       "      <td>176558</td>\n",
       "      <td>USB-C Charging Cable</td>\n",
       "      <td>2</td>\n",
       "      <td>11.95</td>\n",
       "      <td>04/19/19 08:46</td>\n",
       "      <td>917 1st St, Dallas, TX 75001</td>\n",
       "      <td>Sales_April_2019.csv</td>\n",
       "    </tr>\n",
       "    <tr>\n",
       "      <th>1</th>\n",
       "      <td>NaN</td>\n",
       "      <td>NaN</td>\n",
       "      <td>NaN</td>\n",
       "      <td>NaN</td>\n",
       "      <td>NaN</td>\n",
       "      <td>NaN</td>\n",
       "      <td>Sales_April_2019.csv</td>\n",
       "    </tr>\n",
       "    <tr>\n",
       "      <th>2</th>\n",
       "      <td>176559</td>\n",
       "      <td>Bose SoundSport Headphones</td>\n",
       "      <td>1</td>\n",
       "      <td>99.99</td>\n",
       "      <td>04/07/19 22:30</td>\n",
       "      <td>682 Chestnut St, Boston, MA 02215</td>\n",
       "      <td>Sales_April_2019.csv</td>\n",
       "    </tr>\n",
       "    <tr>\n",
       "      <th>3</th>\n",
       "      <td>176560</td>\n",
       "      <td>Google Phone</td>\n",
       "      <td>1</td>\n",
       "      <td>600</td>\n",
       "      <td>04/12/19 14:38</td>\n",
       "      <td>669 Spruce St, Los Angeles, CA 90001</td>\n",
       "      <td>Sales_April_2019.csv</td>\n",
       "    </tr>\n",
       "    <tr>\n",
       "      <th>4</th>\n",
       "      <td>176560</td>\n",
       "      <td>Wired Headphones</td>\n",
       "      <td>1</td>\n",
       "      <td>11.99</td>\n",
       "      <td>04/12/19 14:38</td>\n",
       "      <td>669 Spruce St, Los Angeles, CA 90001</td>\n",
       "      <td>Sales_April_2019.csv</td>\n",
       "    </tr>\n",
       "  </tbody>\n",
       "</table>\n",
       "</div>"
      ],
      "text/plain": [
       "  Order ID                     Product Quantity Ordered Price Each  \\\n",
       "0   176558        USB-C Charging Cable                2      11.95   \n",
       "1      NaN                         NaN              NaN        NaN   \n",
       "2   176559  Bose SoundSport Headphones                1      99.99   \n",
       "3   176560                Google Phone                1        600   \n",
       "4   176560            Wired Headphones                1      11.99   \n",
       "\n",
       "       Order Date                      Purchase Address              src_file  \n",
       "0  04/19/19 08:46          917 1st St, Dallas, TX 75001  Sales_April_2019.csv  \n",
       "1             NaN                                   NaN  Sales_April_2019.csv  \n",
       "2  04/07/19 22:30     682 Chestnut St, Boston, MA 02215  Sales_April_2019.csv  \n",
       "3  04/12/19 14:38  669 Spruce St, Los Angeles, CA 90001  Sales_April_2019.csv  \n",
       "4  04/12/19 14:38  669 Spruce St, Los Angeles, CA 90001  Sales_April_2019.csv  "
      ]
     },
     "execution_count": 13,
     "metadata": {},
     "output_type": "execute_result"
    }
   ],
   "source": [
    "annual_sales.head()"
   ]
  },
  {
   "cell_type": "code",
   "execution_count": 14,
   "id": "ede7abc3",
   "metadata": {},
   "outputs": [],
   "source": [
    "annual_sales.dropna(how=\"all\",subset=annual_sales.columns[0:-1], inplace =True)"
   ]
  },
  {
   "cell_type": "code",
   "execution_count": 15,
   "id": "ba472d9a",
   "metadata": {
    "scrolled": false
   },
   "outputs": [
    {
     "data": {
      "text/html": [
       "<div>\n",
       "<style scoped>\n",
       "    .dataframe tbody tr th:only-of-type {\n",
       "        vertical-align: middle;\n",
       "    }\n",
       "\n",
       "    .dataframe tbody tr th {\n",
       "        vertical-align: top;\n",
       "    }\n",
       "\n",
       "    .dataframe thead th {\n",
       "        text-align: right;\n",
       "    }\n",
       "</style>\n",
       "<table border=\"1\" class=\"dataframe\">\n",
       "  <thead>\n",
       "    <tr style=\"text-align: right;\">\n",
       "      <th></th>\n",
       "      <th>Order ID</th>\n",
       "      <th>Product</th>\n",
       "      <th>Quantity Ordered</th>\n",
       "      <th>Price Each</th>\n",
       "      <th>Order Date</th>\n",
       "      <th>Purchase Address</th>\n",
       "      <th>src_file</th>\n",
       "    </tr>\n",
       "  </thead>\n",
       "  <tbody>\n",
       "    <tr>\n",
       "      <th>0</th>\n",
       "      <td>176558</td>\n",
       "      <td>USB-C Charging Cable</td>\n",
       "      <td>2</td>\n",
       "      <td>11.95</td>\n",
       "      <td>04/19/19 08:46</td>\n",
       "      <td>917 1st St, Dallas, TX 75001</td>\n",
       "      <td>Sales_April_2019.csv</td>\n",
       "    </tr>\n",
       "    <tr>\n",
       "      <th>2</th>\n",
       "      <td>176559</td>\n",
       "      <td>Bose SoundSport Headphones</td>\n",
       "      <td>1</td>\n",
       "      <td>99.99</td>\n",
       "      <td>04/07/19 22:30</td>\n",
       "      <td>682 Chestnut St, Boston, MA 02215</td>\n",
       "      <td>Sales_April_2019.csv</td>\n",
       "    </tr>\n",
       "    <tr>\n",
       "      <th>3</th>\n",
       "      <td>176560</td>\n",
       "      <td>Google Phone</td>\n",
       "      <td>1</td>\n",
       "      <td>600</td>\n",
       "      <td>04/12/19 14:38</td>\n",
       "      <td>669 Spruce St, Los Angeles, CA 90001</td>\n",
       "      <td>Sales_April_2019.csv</td>\n",
       "    </tr>\n",
       "    <tr>\n",
       "      <th>4</th>\n",
       "      <td>176560</td>\n",
       "      <td>Wired Headphones</td>\n",
       "      <td>1</td>\n",
       "      <td>11.99</td>\n",
       "      <td>04/12/19 14:38</td>\n",
       "      <td>669 Spruce St, Los Angeles, CA 90001</td>\n",
       "      <td>Sales_April_2019.csv</td>\n",
       "    </tr>\n",
       "    <tr>\n",
       "      <th>5</th>\n",
       "      <td>176561</td>\n",
       "      <td>Wired Headphones</td>\n",
       "      <td>1</td>\n",
       "      <td>11.99</td>\n",
       "      <td>04/30/19 09:27</td>\n",
       "      <td>333 8th St, Los Angeles, CA 90001</td>\n",
       "      <td>Sales_April_2019.csv</td>\n",
       "    </tr>\n",
       "  </tbody>\n",
       "</table>\n",
       "</div>"
      ],
      "text/plain": [
       "  Order ID                     Product Quantity Ordered Price Each  \\\n",
       "0   176558        USB-C Charging Cable                2      11.95   \n",
       "2   176559  Bose SoundSport Headphones                1      99.99   \n",
       "3   176560                Google Phone                1        600   \n",
       "4   176560            Wired Headphones                1      11.99   \n",
       "5   176561            Wired Headphones                1      11.99   \n",
       "\n",
       "       Order Date                      Purchase Address              src_file  \n",
       "0  04/19/19 08:46          917 1st St, Dallas, TX 75001  Sales_April_2019.csv  \n",
       "2  04/07/19 22:30     682 Chestnut St, Boston, MA 02215  Sales_April_2019.csv  \n",
       "3  04/12/19 14:38  669 Spruce St, Los Angeles, CA 90001  Sales_April_2019.csv  \n",
       "4  04/12/19 14:38  669 Spruce St, Los Angeles, CA 90001  Sales_April_2019.csv  \n",
       "5  04/30/19 09:27     333 8th St, Los Angeles, CA 90001  Sales_April_2019.csv  "
      ]
     },
     "execution_count": 15,
     "metadata": {},
     "output_type": "execute_result"
    }
   ],
   "source": [
    "annual_sales.head()"
   ]
  },
  {
   "cell_type": "code",
   "execution_count": 16,
   "id": "3d6b8fea",
   "metadata": {
    "scrolled": true
   },
   "outputs": [
    {
     "data": {
      "text/html": [
       "<div>\n",
       "<style scoped>\n",
       "    .dataframe tbody tr th:only-of-type {\n",
       "        vertical-align: middle;\n",
       "    }\n",
       "\n",
       "    .dataframe tbody tr th {\n",
       "        vertical-align: top;\n",
       "    }\n",
       "\n",
       "    .dataframe thead th {\n",
       "        text-align: right;\n",
       "    }\n",
       "</style>\n",
       "<table border=\"1\" class=\"dataframe\">\n",
       "  <thead>\n",
       "    <tr style=\"text-align: right;\">\n",
       "      <th></th>\n",
       "      <th>Quantity Ordered</th>\n",
       "    </tr>\n",
       "  </thead>\n",
       "  <tbody>\n",
       "    <tr>\n",
       "      <th>519</th>\n",
       "      <td>Quantity Ordered</td>\n",
       "    </tr>\n",
       "    <tr>\n",
       "      <th>1149</th>\n",
       "      <td>Quantity Ordered</td>\n",
       "    </tr>\n",
       "    <tr>\n",
       "      <th>1155</th>\n",
       "      <td>Quantity Ordered</td>\n",
       "    </tr>\n",
       "    <tr>\n",
       "      <th>2878</th>\n",
       "      <td>Quantity Ordered</td>\n",
       "    </tr>\n",
       "    <tr>\n",
       "      <th>2893</th>\n",
       "      <td>Quantity Ordered</td>\n",
       "    </tr>\n",
       "    <tr>\n",
       "      <th>...</th>\n",
       "      <td>...</td>\n",
       "    </tr>\n",
       "    <tr>\n",
       "      <th>10000</th>\n",
       "      <td>Quantity Ordered</td>\n",
       "    </tr>\n",
       "    <tr>\n",
       "      <th>10387</th>\n",
       "      <td>Quantity Ordered</td>\n",
       "    </tr>\n",
       "    <tr>\n",
       "      <th>11399</th>\n",
       "      <td>Quantity Ordered</td>\n",
       "    </tr>\n",
       "    <tr>\n",
       "      <th>11468</th>\n",
       "      <td>Quantity Ordered</td>\n",
       "    </tr>\n",
       "    <tr>\n",
       "      <th>11574</th>\n",
       "      <td>Quantity Ordered</td>\n",
       "    </tr>\n",
       "  </tbody>\n",
       "</table>\n",
       "<p>355 rows × 1 columns</p>\n",
       "</div>"
      ],
      "text/plain": [
       "       Quantity Ordered\n",
       "519    Quantity Ordered\n",
       "1149   Quantity Ordered\n",
       "1155   Quantity Ordered\n",
       "2878   Quantity Ordered\n",
       "2893   Quantity Ordered\n",
       "...                 ...\n",
       "10000  Quantity Ordered\n",
       "10387  Quantity Ordered\n",
       "11399  Quantity Ordered\n",
       "11468  Quantity Ordered\n",
       "11574  Quantity Ordered\n",
       "\n",
       "[355 rows x 1 columns]"
      ]
     },
     "execution_count": 16,
     "metadata": {},
     "output_type": "execute_result"
    }
   ],
   "source": [
    "annual_sales.loc[(annual_sales['Quantity Ordered'] == \"Quantity Ordered\"),['Quantity Ordered']]"
   ]
  },
  {
   "cell_type": "markdown",
   "id": "991fc957",
   "metadata": {},
   "source": [
    "    every so often the header gets repeated for readability. Use ~ to fetch not values that are actual values"
   ]
  },
  {
   "cell_type": "code",
   "execution_count": 17,
   "id": "66edfbde",
   "metadata": {},
   "outputs": [],
   "source": [
    "annual_sales = annual_sales.loc[~(annual_sales['Quantity Ordered'] == \"Quantity Ordered\"),:]"
   ]
  },
  {
   "cell_type": "code",
   "execution_count": 18,
   "id": "c863e5a6",
   "metadata": {},
   "outputs": [],
   "source": [
    "annual_sales['Quantity Ordered'] = annual_sales['Quantity Ordered'].astype(int)\n",
    "annual_sales['Price Each'] = annual_sales['Price Each'].astype(float)"
   ]
  },
  {
   "cell_type": "code",
   "execution_count": 19,
   "id": "cd3bee5b",
   "metadata": {},
   "outputs": [
    {
     "data": {
      "text/plain": [
       "Order ID             object\n",
       "Product              object\n",
       "Quantity Ordered      int32\n",
       "Price Each          float64\n",
       "Order Date           object\n",
       "Purchase Address     object\n",
       "src_file             object\n",
       "dtype: object"
      ]
     },
     "execution_count": 19,
     "metadata": {},
     "output_type": "execute_result"
    }
   ],
   "source": [
    "annual_sales.dtypes"
   ]
  },
  {
   "cell_type": "code",
   "execution_count": 20,
   "id": "89c47870",
   "metadata": {
    "scrolled": true
   },
   "outputs": [
    {
     "data": {
      "text/html": [
       "<div>\n",
       "<style scoped>\n",
       "    .dataframe tbody tr th:only-of-type {\n",
       "        vertical-align: middle;\n",
       "    }\n",
       "\n",
       "    .dataframe tbody tr th {\n",
       "        vertical-align: top;\n",
       "    }\n",
       "\n",
       "    .dataframe thead th {\n",
       "        text-align: right;\n",
       "    }\n",
       "</style>\n",
       "<table border=\"1\" class=\"dataframe\">\n",
       "  <thead>\n",
       "    <tr style=\"text-align: right;\">\n",
       "      <th></th>\n",
       "      <th>Order ID</th>\n",
       "      <th>Product</th>\n",
       "      <th>Quantity Ordered</th>\n",
       "      <th>Price Each</th>\n",
       "      <th>Order Date</th>\n",
       "      <th>Purchase Address</th>\n",
       "      <th>src_file</th>\n",
       "    </tr>\n",
       "  </thead>\n",
       "  <tbody>\n",
       "    <tr>\n",
       "      <th>15073</th>\n",
       "      <td>190932</td>\n",
       "      <td>Wired Headphones</td>\n",
       "      <td>1</td>\n",
       "      <td>11.99</td>\n",
       "      <td>04/18/19 22:35</td>\n",
       "      <td>593 Ridge St, San Francisco, CA 94016</td>\n",
       "      <td>Sales_April_2019.csv</td>\n",
       "    </tr>\n",
       "    <tr>\n",
       "      <th>2858</th>\n",
       "      <td>143946</td>\n",
       "      <td>Wired Headphones</td>\n",
       "      <td>2</td>\n",
       "      <td>11.99</td>\n",
       "      <td>01/18/19 18:15</td>\n",
       "      <td>420 Cedar St, Dallas, TX 75001</td>\n",
       "      <td>Sales_January_2019.csv</td>\n",
       "    </tr>\n",
       "    <tr>\n",
       "      <th>7188</th>\n",
       "      <td>200918</td>\n",
       "      <td>Vareebadd Phone</td>\n",
       "      <td>1</td>\n",
       "      <td>400.00</td>\n",
       "      <td>05/08/19 16:18</td>\n",
       "      <td>262 6th St, Los Angeles, CA 90001</td>\n",
       "      <td>Sales_May_2019.csv</td>\n",
       "    </tr>\n",
       "    <tr>\n",
       "      <th>7157</th>\n",
       "      <td>266191</td>\n",
       "      <td>AA Batteries (4-pack)</td>\n",
       "      <td>1</td>\n",
       "      <td>3.84</td>\n",
       "      <td>10/13/19 16:09</td>\n",
       "      <td>797 Cherry St, Austin, TX 73301</td>\n",
       "      <td>Sales_October_2019.csv</td>\n",
       "    </tr>\n",
       "    <tr>\n",
       "      <th>5119</th>\n",
       "      <td>283688</td>\n",
       "      <td>Google Phone</td>\n",
       "      <td>1</td>\n",
       "      <td>600.00</td>\n",
       "      <td>11/04/19 13:04</td>\n",
       "      <td>367 1st St, New York City, NY 10001</td>\n",
       "      <td>Sales_November_2019.csv</td>\n",
       "    </tr>\n",
       "  </tbody>\n",
       "</table>\n",
       "</div>"
      ],
      "text/plain": [
       "      Order ID                Product  Quantity Ordered  Price Each  \\\n",
       "15073   190932       Wired Headphones                 1       11.99   \n",
       "2858    143946       Wired Headphones                 2       11.99   \n",
       "7188    200918        Vareebadd Phone                 1      400.00   \n",
       "7157    266191  AA Batteries (4-pack)                 1        3.84   \n",
       "5119    283688           Google Phone                 1      600.00   \n",
       "\n",
       "           Order Date                       Purchase Address  \\\n",
       "15073  04/18/19 22:35  593 Ridge St, San Francisco, CA 94016   \n",
       "2858   01/18/19 18:15         420 Cedar St, Dallas, TX 75001   \n",
       "7188   05/08/19 16:18      262 6th St, Los Angeles, CA 90001   \n",
       "7157   10/13/19 16:09        797 Cherry St, Austin, TX 73301   \n",
       "5119   11/04/19 13:04    367 1st St, New York City, NY 10001   \n",
       "\n",
       "                      src_file  \n",
       "15073     Sales_April_2019.csv  \n",
       "2858    Sales_January_2019.csv  \n",
       "7188        Sales_May_2019.csv  \n",
       "7157    Sales_October_2019.csv  \n",
       "5119   Sales_November_2019.csv  "
      ]
     },
     "execution_count": 20,
     "metadata": {},
     "output_type": "execute_result"
    }
   ],
   "source": [
    "annual_sales.sample(5)"
   ]
  },
  {
   "cell_type": "code",
   "execution_count": 21,
   "id": "5e979c0a",
   "metadata": {},
   "outputs": [],
   "source": [
    "annual_sales['Order Date'] = \\\n",
    "pd.to_datetime(annual_sales['Order Date'], format = '%m/%d/%y %H:%M')"
   ]
  },
  {
   "cell_type": "code",
   "execution_count": 22,
   "id": "56fd33ec",
   "metadata": {},
   "outputs": [
    {
     "data": {
      "text/plain": [
       "Order ID                    object\n",
       "Product                     object\n",
       "Quantity Ordered             int32\n",
       "Price Each                 float64\n",
       "Order Date          datetime64[ns]\n",
       "Purchase Address            object\n",
       "src_file                    object\n",
       "dtype: object"
      ]
     },
     "execution_count": 22,
     "metadata": {},
     "output_type": "execute_result"
    }
   ],
   "source": [
    "annual_sales.dtypes"
   ]
  },
  {
   "cell_type": "code",
   "execution_count": 23,
   "id": "34324018",
   "metadata": {},
   "outputs": [
    {
     "data": {
      "text/html": [
       "<div>\n",
       "<style scoped>\n",
       "    .dataframe tbody tr th:only-of-type {\n",
       "        vertical-align: middle;\n",
       "    }\n",
       "\n",
       "    .dataframe tbody tr th {\n",
       "        vertical-align: top;\n",
       "    }\n",
       "\n",
       "    .dataframe thead th {\n",
       "        text-align: right;\n",
       "    }\n",
       "</style>\n",
       "<table border=\"1\" class=\"dataframe\">\n",
       "  <thead>\n",
       "    <tr style=\"text-align: right;\">\n",
       "      <th></th>\n",
       "      <th>Order ID</th>\n",
       "      <th>Product</th>\n",
       "      <th>Quantity Ordered</th>\n",
       "      <th>Price Each</th>\n",
       "      <th>Order Date</th>\n",
       "      <th>Purchase Address</th>\n",
       "      <th>src_file</th>\n",
       "      <th>Order Month</th>\n",
       "      <th>Bill Amount</th>\n",
       "    </tr>\n",
       "  </thead>\n",
       "  <tbody>\n",
       "    <tr>\n",
       "      <th>0</th>\n",
       "      <td>176558</td>\n",
       "      <td>USB-C Charging Cable</td>\n",
       "      <td>2</td>\n",
       "      <td>11.95</td>\n",
       "      <td>2019-04-19 08:46:00</td>\n",
       "      <td>917 1st St, Dallas, TX 75001</td>\n",
       "      <td>Sales_April_2019.csv</td>\n",
       "      <td>4</td>\n",
       "      <td>23.90</td>\n",
       "    </tr>\n",
       "    <tr>\n",
       "      <th>2</th>\n",
       "      <td>176559</td>\n",
       "      <td>Bose SoundSport Headphones</td>\n",
       "      <td>1</td>\n",
       "      <td>99.99</td>\n",
       "      <td>2019-04-07 22:30:00</td>\n",
       "      <td>682 Chestnut St, Boston, MA 02215</td>\n",
       "      <td>Sales_April_2019.csv</td>\n",
       "      <td>4</td>\n",
       "      <td>99.99</td>\n",
       "    </tr>\n",
       "    <tr>\n",
       "      <th>3</th>\n",
       "      <td>176560</td>\n",
       "      <td>Google Phone</td>\n",
       "      <td>1</td>\n",
       "      <td>600.00</td>\n",
       "      <td>2019-04-12 14:38:00</td>\n",
       "      <td>669 Spruce St, Los Angeles, CA 90001</td>\n",
       "      <td>Sales_April_2019.csv</td>\n",
       "      <td>4</td>\n",
       "      <td>600.00</td>\n",
       "    </tr>\n",
       "    <tr>\n",
       "      <th>4</th>\n",
       "      <td>176560</td>\n",
       "      <td>Wired Headphones</td>\n",
       "      <td>1</td>\n",
       "      <td>11.99</td>\n",
       "      <td>2019-04-12 14:38:00</td>\n",
       "      <td>669 Spruce St, Los Angeles, CA 90001</td>\n",
       "      <td>Sales_April_2019.csv</td>\n",
       "      <td>4</td>\n",
       "      <td>11.99</td>\n",
       "    </tr>\n",
       "    <tr>\n",
       "      <th>5</th>\n",
       "      <td>176561</td>\n",
       "      <td>Wired Headphones</td>\n",
       "      <td>1</td>\n",
       "      <td>11.99</td>\n",
       "      <td>2019-04-30 09:27:00</td>\n",
       "      <td>333 8th St, Los Angeles, CA 90001</td>\n",
       "      <td>Sales_April_2019.csv</td>\n",
       "      <td>4</td>\n",
       "      <td>11.99</td>\n",
       "    </tr>\n",
       "  </tbody>\n",
       "</table>\n",
       "</div>"
      ],
      "text/plain": [
       "  Order ID                     Product  Quantity Ordered  Price Each  \\\n",
       "0   176558        USB-C Charging Cable                 2       11.95   \n",
       "2   176559  Bose SoundSport Headphones                 1       99.99   \n",
       "3   176560                Google Phone                 1      600.00   \n",
       "4   176560            Wired Headphones                 1       11.99   \n",
       "5   176561            Wired Headphones                 1       11.99   \n",
       "\n",
       "           Order Date                      Purchase Address  \\\n",
       "0 2019-04-19 08:46:00          917 1st St, Dallas, TX 75001   \n",
       "2 2019-04-07 22:30:00     682 Chestnut St, Boston, MA 02215   \n",
       "3 2019-04-12 14:38:00  669 Spruce St, Los Angeles, CA 90001   \n",
       "4 2019-04-12 14:38:00  669 Spruce St, Los Angeles, CA 90001   \n",
       "5 2019-04-30 09:27:00     333 8th St, Los Angeles, CA 90001   \n",
       "\n",
       "               src_file  Order Month  Bill Amount  \n",
       "0  Sales_April_2019.csv            4        23.90  \n",
       "2  Sales_April_2019.csv            4        99.99  \n",
       "3  Sales_April_2019.csv            4       600.00  \n",
       "4  Sales_April_2019.csv            4        11.99  \n",
       "5  Sales_April_2019.csv            4        11.99  "
      ]
     },
     "execution_count": 23,
     "metadata": {},
     "output_type": "execute_result"
    }
   ],
   "source": [
    "annual_sales['Order Month'] = annual_sales['Order Date'].dt.month\n",
    "\n",
    "annual_sales['Bill Amount'] = annual_sales['Quantity Ordered'] * annual_sales['Price Each']\n",
    "\n",
    "annual_sales.head()"
   ]
  },
  {
   "cell_type": "code",
   "execution_count": 24,
   "id": "0d31a921",
   "metadata": {},
   "outputs": [],
   "source": [
    "annual_sales[\"Order Month Name\"] = annual_sales['Order Date'].dt.month_name(locale='en_us')"
   ]
  },
  {
   "cell_type": "code",
   "execution_count": 25,
   "id": "7d5b6690",
   "metadata": {},
   "outputs": [
    {
     "data": {
      "text/plain": [
       "Order Month  Order Month Name\n",
       "1            January             1822256.73\n",
       "2            February            2202022.42\n",
       "3            March               2807100.38\n",
       "4            April               3390670.24\n",
       "5            May                 3152606.75\n",
       "6            June                2577802.26\n",
       "7            July                2647775.76\n",
       "8            August              2244467.88\n",
       "9            September           2097560.13\n",
       "10           October             3736726.88\n",
       "11           November            3199603.20\n",
       "12           December            4613443.34\n",
       "Name: Bill Amount, dtype: float64"
      ]
     },
     "execution_count": 25,
     "metadata": {},
     "output_type": "execute_result"
    }
   ],
   "source": [
    "annual_sales.groupby([\"Order Month\",\"Order Month Name\"])[\"Bill Amount\"].sum()"
   ]
  },
  {
   "cell_type": "code",
   "execution_count": 26,
   "id": "c7bb6774",
   "metadata": {},
   "outputs": [],
   "source": [
    "mnames = list(map(lambda x: x[1],annual_sales.groupby([\"Order Month\",\"Order Month Name\"])[\"Bill Amount\"].sum().index))"
   ]
  },
  {
   "cell_type": "code",
   "execution_count": 27,
   "id": "7f22167b",
   "metadata": {},
   "outputs": [],
   "source": [
    "yval = annual_sales.groupby([\"Order Month\",\"Order Month Name\"])[\"Bill Amount\"].sum()"
   ]
  },
  {
   "cell_type": "code",
   "execution_count": 28,
   "id": "6790fc01",
   "metadata": {},
   "outputs": [
    {
     "data": {
      "text/plain": [
       "Order Month  Order Month Name\n",
       "1            January             1822256.73\n",
       "2            February            2202022.42\n",
       "3            March               2807100.38\n",
       "4            April               3390670.24\n",
       "5            May                 3152606.75\n",
       "6            June                2577802.26\n",
       "7            July                2647775.76\n",
       "8            August              2244467.88\n",
       "9            September           2097560.13\n",
       "10           October             3736726.88\n",
       "11           November            3199603.20\n",
       "12           December            4613443.34\n",
       "Name: Bill Amount, dtype: float64"
      ]
     },
     "execution_count": 28,
     "metadata": {},
     "output_type": "execute_result"
    }
   ],
   "source": [
    "annual_sales.groupby([\"Order Month\",\"Order Month Name\"])[\"Bill Amount\"].sum()"
   ]
  },
  {
   "cell_type": "code",
   "execution_count": 29,
   "id": "8ef0c484",
   "metadata": {
    "scrolled": false
   },
   "outputs": [
    {
     "data": {
      "image/png": "[encoded data removed]",
      "text/plain": [
       "<Figure size 840x960 with 1 Axes>"
      ]
     },
     "metadata": {},
     "output_type": "display_data"
    }
   ],
   "source": [
    "plt.figure(figsize=[7,8],\n",
    "          dpi = 120)\n",
    "bars = None\n",
    "bars = plt.bar(mnames,yval)\n",
    "plt.yticks(range(500_000,5_500_000,500_000))\n",
    "plt.xticks(rotation = 'vertical')\n",
    "plt.show()"
   ]
  },
  {
   "cell_type": "code",
   "execution_count": 30,
   "id": "62bb5006",
   "metadata": {},
   "outputs": [
    {
     "data": {
      "text/plain": [
       "'TX'"
      ]
     },
     "execution_count": 30,
     "metadata": {},
     "output_type": "execute_result"
    }
   ],
   "source": [
    "ad = '917 1st St, Dallas, TX 75001'\n",
    "ad.split(\" \")[-2]"
   ]
  },
  {
   "cell_type": "code",
   "execution_count": 31,
   "id": "7ec43be9",
   "metadata": {},
   "outputs": [],
   "source": [
    "annual_sales[\"State Code\"] = annual_sales[\"Purchase Address\"].str.split(\" \").str.get(-2)"
   ]
  },
  {
   "cell_type": "code",
   "execution_count": 32,
   "id": "d8e5c08d",
   "metadata": {},
   "outputs": [
    {
     "data": {
      "text/plain": [
       "0        TX\n",
       "2        MA\n",
       "3        CA\n",
       "4        CA\n",
       "5        CA\n",
       "         ..\n",
       "11681    CA\n",
       "11682    CA\n",
       "11683    CA\n",
       "11684    CA\n",
       "11685    CA\n",
       "Name: Purchase Address, Length: 185950, dtype: object"
      ]
     },
     "execution_count": 32,
     "metadata": {},
     "output_type": "execute_result"
    }
   ],
   "source": [
    "annual_sales[\"Purchase Address\"].str.split(\" \").str.get(-2)"
   ]
  },
  {
   "cell_type": "code",
   "execution_count": 33,
   "id": "b1d21560",
   "metadata": {},
   "outputs": [
    {
     "data": {
      "text/html": [
       "<div>\n",
       "<style scoped>\n",
       "    .dataframe tbody tr th:only-of-type {\n",
       "        vertical-align: middle;\n",
       "    }\n",
       "\n",
       "    .dataframe tbody tr th {\n",
       "        vertical-align: top;\n",
       "    }\n",
       "\n",
       "    .dataframe thead th {\n",
       "        text-align: right;\n",
       "    }\n",
       "</style>\n",
       "<table border=\"1\" class=\"dataframe\">\n",
       "  <thead>\n",
       "    <tr style=\"text-align: right;\">\n",
       "      <th></th>\n",
       "      <th>Order ID</th>\n",
       "      <th>Product</th>\n",
       "      <th>Quantity Ordered</th>\n",
       "      <th>Price Each</th>\n",
       "      <th>Order Date</th>\n",
       "      <th>Purchase Address</th>\n",
       "      <th>src_file</th>\n",
       "      <th>Order Month</th>\n",
       "      <th>Bill Amount</th>\n",
       "      <th>Order Month Name</th>\n",
       "      <th>State Code</th>\n",
       "    </tr>\n",
       "  </thead>\n",
       "  <tbody>\n",
       "    <tr>\n",
       "      <th>9659</th>\n",
       "      <td>159726</td>\n",
       "      <td>Macbook Pro Laptop</td>\n",
       "      <td>1</td>\n",
       "      <td>1700.00</td>\n",
       "      <td>2019-02-13 09:54:00</td>\n",
       "      <td>238 Willow St, San Francisco, CA 94016</td>\n",
       "      <td>Sales_February_2019.csv</td>\n",
       "      <td>2</td>\n",
       "      <td>1700.00</td>\n",
       "      <td>February</td>\n",
       "      <td>CA</td>\n",
       "    </tr>\n",
       "    <tr>\n",
       "      <th>5110</th>\n",
       "      <td>214767</td>\n",
       "      <td>Lightning Charging Cable</td>\n",
       "      <td>1</td>\n",
       "      <td>14.95</td>\n",
       "      <td>2019-06-29 16:34:00</td>\n",
       "      <td>237 Pine St, New York City, NY 10001</td>\n",
       "      <td>Sales_June_2019.csv</td>\n",
       "      <td>6</td>\n",
       "      <td>14.95</td>\n",
       "      <td>June</td>\n",
       "      <td>NY</td>\n",
       "    </tr>\n",
       "    <tr>\n",
       "      <th>9310</th>\n",
       "      <td>218796</td>\n",
       "      <td>AA Batteries (4-pack)</td>\n",
       "      <td>1</td>\n",
       "      <td>3.84</td>\n",
       "      <td>2019-06-25 20:46:00</td>\n",
       "      <td>135 Spruce St, Boston, MA 02215</td>\n",
       "      <td>Sales_June_2019.csv</td>\n",
       "      <td>6</td>\n",
       "      <td>3.84</td>\n",
       "      <td>June</td>\n",
       "      <td>MA</td>\n",
       "    </tr>\n",
       "  </tbody>\n",
       "</table>\n",
       "</div>"
      ],
      "text/plain": [
       "     Order ID                   Product  Quantity Ordered  Price Each  \\\n",
       "9659   159726        Macbook Pro Laptop                 1     1700.00   \n",
       "5110   214767  Lightning Charging Cable                 1       14.95   \n",
       "9310   218796     AA Batteries (4-pack)                 1        3.84   \n",
       "\n",
       "              Order Date                        Purchase Address  \\\n",
       "9659 2019-02-13 09:54:00  238 Willow St, San Francisco, CA 94016   \n",
       "5110 2019-06-29 16:34:00    237 Pine St, New York City, NY 10001   \n",
       "9310 2019-06-25 20:46:00         135 Spruce St, Boston, MA 02215   \n",
       "\n",
       "                     src_file  Order Month  Bill Amount Order Month Name  \\\n",
       "9659  Sales_February_2019.csv            2      1700.00         February   \n",
       "5110      Sales_June_2019.csv            6        14.95             June   \n",
       "9310      Sales_June_2019.csv            6         3.84             June   \n",
       "\n",
       "     State Code  \n",
       "9659         CA  \n",
       "5110         NY  \n",
       "9310         MA  "
      ]
     },
     "execution_count": 33,
     "metadata": {},
     "output_type": "execute_result"
    }
   ],
   "source": [
    "annual_sales.sample(3)"
   ]
  },
  {
   "cell_type": "markdown",
   "id": "f00972a7",
   "metadata": {},
   "source": [
    "### Q: Which state has the highest sale?"
   ]
  },
  {
   "cell_type": "code",
   "execution_count": 58,
   "id": "6fb43126",
   "metadata": {},
   "outputs": [
    {
     "name": "stdout",
     "output_type": "stream",
     "text": [
      "The state of CA has recorded maximum sales in the region of $13,714,774.71\n"
     ]
    },
    {
     "data": {
      "image/png": "[encoded data removed]",
      "text/plain": [
       "<Figure size 640x480 with 1 Axes>"
      ]
     },
     "metadata": {},
     "output_type": "display_data"
    }
   ],
   "source": [
    "annual_sales[\"State Code\"] = annual_sales[\"Purchase Address\"].str.split(\" \").str.get(-2)\n",
    "max_state_sale =annual_sales.groupby([\"State Code\"])[\"Bill Amount\"].sum().sort_values(ascending=False)\n",
    "print(f'The state of {max_state_sale.index[0]} has recorded maximum sales in the region of ${max_state_sale[0]:,}')\n",
    "\n",
    "bars = None\n",
    "bars = plt.bar(max_state_sale.index,max_state_sale)\n",
    "plt.yticks(range(1_500_000,15_500_000,1_000_000))\n",
    "plt.xlabel('States')\n",
    "plt.ylabel('Sales (in tens of million $)')\n",
    "plt.show()"
   ]
  },
  {
   "cell_type": "raw",
   "id": "d93765cd",
   "metadata": {},
   "source": [
    "final_df[\"State Code\"] = final_df[\"Purchase Address\"].str.split(\" \").str.get(-2)\n",
    "max_state_sale = final_df.groupby([\"State Code\"])[\"Bill Amount\"].sum().sort_values(ascending=False)\n",
    "print(f'The state of {max_state_sale.index[0]} has recorded maximum sales in the region of ${max_state_sale[0]:,}')\n",
    "\n",
    "bars = None\n",
    "bars = plt.bar(max_state_sale.index,max_state_sale)\n",
    "plt.yticks(range(1_500_000,15_500_000,1_000_000))\n",
    "plt.xlabel('States')\n",
    "plt.ylabel('Sales (in tens of million $)')\n",
    "plt.show()"
   ]
  },
  {
   "cell_type": "markdown",
   "id": "7526db18",
   "metadata": {},
   "source": [
    "### Q: Which city has the highest sale?"
   ]
  },
  {
   "cell_type": "code",
   "execution_count": 62,
   "id": "05164432",
   "metadata": {},
   "outputs": [
    {
     "name": "stdout",
     "output_type": "stream",
     "text": [
      "The city of (' San Francisco', 'CA') has recorded maximum sales in the region of $8,262,203.91\n"
     ]
    },
    {
     "data": {
      "image/png": "[encoded data removed]",
      "text/plain": [
       "<Figure size 640x480 with 1 Axes>"
      ]
     },
     "metadata": {},
     "output_type": "display_data"
    }
   ],
   "source": [
    "annual_sales[\"City\"] = annual_sales[\"Purchase Address\"].str.split(\"St,\").str.get(-1).\\\n",
    "str.split(\",\").str.get(0)\n",
    "max_city_sale = annual_sales.groupby([\"City\", \"State Code\"])[\"Bill Amount\"].sum().sort_values(ascending=False)\n",
    "print(f'The city of {max_city_sale.index[0]} has recorded maximum sales in the region of ${max_city_sale[0]:,}')\n",
    "\n",
    "max_city_sale.plot.bar()\n",
    "plt.xlabel('States')\n",
    "plt.ylabel('Sales (in million $)')\n",
    "plt.show()"
   ]
  },
  {
   "cell_type": "raw",
   "id": "d2e99868",
   "metadata": {},
   "source": [
    "final_df[\"City\"] = final_df[\"Purchase Address\"].str.split(\"St,\").str.get(-1).\\\n",
    "str.split(\",\").str.get(0)\n",
    "max_city_sale = final_df.groupby([\"City\"])[\"Bill Amount\"].sum().sort_values(ascending=False)\n",
    "print(f'The city of {max_city_sale.index[0]} has recorded maximum sales in the region of ${max_city_sale[0]:,}')\n",
    "\n",
    "max_city_sale.plot.bar()\n",
    "plt.xlabel('States')\n",
    "plt.ylabel('Sales (in million $)')\n",
    "plt.show()"
   ]
  },
  {
   "cell_type": "code",
   "execution_count": 36,
   "id": "bbe58361",
   "metadata": {},
   "outputs": [
    {
     "data": {
      "text/plain": [
       "0                Dallas\n",
       "2                Boston\n",
       "3           Los Angeles\n",
       "4           Los Angeles\n",
       "5           Los Angeles\n",
       "              ...      \n",
       "11681       Los Angeles\n",
       "11682     San Francisco\n",
       "11683     San Francisco\n",
       "11684     San Francisco\n",
       "11685     San Francisco\n",
       "Name: Purchase Address, Length: 185950, dtype: object"
      ]
     },
     "execution_count": 36,
     "metadata": {},
     "output_type": "execute_result"
    }
   ],
   "source": [
    "annual_sales[\"Purchase Address\"].str.split(\"St,\").str.get(-1).\\\n",
    "str.split(\",\").str.get(0)"
   ]
  },
  {
   "cell_type": "code",
   "execution_count": 37,
   "id": "5216095b",
   "metadata": {},
   "outputs": [
    {
     "name": "stdout",
     "output_type": "stream",
     "text": [
      "1.11 s ± 164 ms per loop (mean ± std. dev. of 7 runs, 1 loop each)\n"
     ]
    }
   ],
   "source": [
    "%%timeit\n",
    "annual_sales[\"Purchase Address\"].str.split(\"St,\").str.get(-1).\\\n",
    "str.split(\",\").str.get(0)"
   ]
  },
  {
   "cell_type": "markdown",
   "id": "19335d9f",
   "metadata": {},
   "source": [
    "### Q: During which hour is the footfall maximum?\n"
   ]
  },
  {
   "cell_type": "code",
   "execution_count": 69,
   "id": "11f98251",
   "metadata": {},
   "outputs": [
    {
     "name": "stdout",
     "output_type": "stream",
     "text": [
      "Maximum footfall is recorded at 19:00 hrs, with 14,470 items ordered during that time.\n"
     ]
    },
    {
     "data": {
      "image/png": "[encoded data removed]",
      "text/plain": [
       "<Figure size 640x480 with 1 Axes>"
      ]
     },
     "metadata": {},
     "output_type": "display_data"
    }
   ],
   "source": [
    "hourly_sales = annual_sales.groupby(annual_sales[\"Order Date\"].dt.hour)[\"Quantity Ordered\"].sum().sort_values(ascending=False)\n",
    "print(f'Maximum footfall is recorded at {hourly_sales.index[0]}:00 hrs, with {hourly_sales[hourly_sales.index[0]]:,} items ordered during that time.')\n",
    "\n",
    "y= annual_sales.groupby(annual_sales[\"Order Date\"].dt.hour)[\"Quantity Ordered\"].sum().sort_index(ascending=False)\n",
    "y.plot.line()\n",
    "plt.xlabel('Quantity Ordered')\n",
    "plt.ylabel(':00 hrs')\n",
    "plt.show()"
   ]
  },
  {
   "cell_type": "raw",
   "id": "46cc7352",
   "metadata": {},
   "source": [
    "hourly_sales = final_df.groupby(final_df[\"Order Date\"].dt.hour)[\"Quantity Ordered\"].sum().sort_values(ascending=False)\n",
    "print(f'Maximum footfall is recorded at {hourly_sales.index[0]}:00 hrs, with {hourly_sales[hourly_sales.index[0]]:,} items ordered during that time.')\n",
    "\n",
    "y= final_df.groupby(final_df[\"Order Date\"].dt.hour)[\"Quantity Ordered\"].sum().sort_index(ascending=False)\n",
    "y.plot.barh()\n",
    "plt.xlabel('Quantity Ordered')\n",
    "plt.ylabel(':00 hrs')\n",
    "plt.show()"
   ]
  },
  {
   "cell_type": "code",
   "execution_count": 40,
   "id": "9a159f1d",
   "metadata": {
    "scrolled": true
   },
   "outputs": [
    {
     "data": {
      "text/plain": [
       "Order Date\n",
       "19    14470\n",
       "12    14202\n",
       "11    14005\n",
       "18    13802\n",
       "20    13768\n",
       "13    13685\n",
       "14    12362\n",
       "10    12308\n",
       "21    12244\n",
       "17    12229\n",
       "16    11662\n",
       "15    11391\n",
       "22     9899\n",
       "9      9816\n",
       "23     7065\n",
       "8      7002\n",
       "7      4556\n",
       "0      4428\n",
       "6      2810\n",
       "1      2619\n",
       "5      1493\n",
       "2      1398\n",
       "4       937\n",
       "3       928\n",
       "Name: Quantity Ordered, dtype: int32"
      ]
     },
     "execution_count": 40,
     "metadata": {},
     "output_type": "execute_result"
    }
   ],
   "source": [
    "annual_sales.groupby(annual_sales[\"Order Date\"].dt.hour)[\"Quantity Ordered\"].sum().sort_values(ascending=False)"
   ]
  },
  {
   "cell_type": "markdown",
   "id": "1cb1f6f9",
   "metadata": {},
   "source": [
    "### Q: Which two products are sold together the most?"
   ]
  },
  {
   "cell_type": "code",
   "execution_count": 41,
   "id": "23b120ed",
   "metadata": {},
   "outputs": [
    {
     "data": {
      "text/html": [
       "<div>\n",
       "<style scoped>\n",
       "    .dataframe tbody tr th:only-of-type {\n",
       "        vertical-align: middle;\n",
       "    }\n",
       "\n",
       "    .dataframe tbody tr th {\n",
       "        vertical-align: top;\n",
       "    }\n",
       "\n",
       "    .dataframe thead th {\n",
       "        text-align: right;\n",
       "    }\n",
       "</style>\n",
       "<table border=\"1\" class=\"dataframe\">\n",
       "  <thead>\n",
       "    <tr style=\"text-align: right;\">\n",
       "      <th></th>\n",
       "      <th>Order ID</th>\n",
       "      <th>Product</th>\n",
       "      <th>Quantity Ordered</th>\n",
       "      <th>Price Each</th>\n",
       "      <th>Order Date</th>\n",
       "      <th>Purchase Address</th>\n",
       "      <th>src_file</th>\n",
       "      <th>Order Month</th>\n",
       "      <th>Bill Amount</th>\n",
       "      <th>Order Month Name</th>\n",
       "      <th>State Code</th>\n",
       "      <th>City</th>\n",
       "    </tr>\n",
       "  </thead>\n",
       "  <tbody>\n",
       "    <tr>\n",
       "      <th>0</th>\n",
       "      <td>176558</td>\n",
       "      <td>USB-C Charging Cable</td>\n",
       "      <td>2</td>\n",
       "      <td>11.95</td>\n",
       "      <td>2019-04-19 08:46:00</td>\n",
       "      <td>917 1st St, Dallas, TX 75001</td>\n",
       "      <td>Sales_April_2019.csv</td>\n",
       "      <td>4</td>\n",
       "      <td>23.90</td>\n",
       "      <td>April</td>\n",
       "      <td>TX</td>\n",
       "      <td>Dallas</td>\n",
       "    </tr>\n",
       "    <tr>\n",
       "      <th>2</th>\n",
       "      <td>176559</td>\n",
       "      <td>Bose SoundSport Headphones</td>\n",
       "      <td>1</td>\n",
       "      <td>99.99</td>\n",
       "      <td>2019-04-07 22:30:00</td>\n",
       "      <td>682 Chestnut St, Boston, MA 02215</td>\n",
       "      <td>Sales_April_2019.csv</td>\n",
       "      <td>4</td>\n",
       "      <td>99.99</td>\n",
       "      <td>April</td>\n",
       "      <td>MA</td>\n",
       "      <td>Boston</td>\n",
       "    </tr>\n",
       "    <tr>\n",
       "      <th>3</th>\n",
       "      <td>176560</td>\n",
       "      <td>Google Phone</td>\n",
       "      <td>1</td>\n",
       "      <td>600.00</td>\n",
       "      <td>2019-04-12 14:38:00</td>\n",
       "      <td>669 Spruce St, Los Angeles, CA 90001</td>\n",
       "      <td>Sales_April_2019.csv</td>\n",
       "      <td>4</td>\n",
       "      <td>600.00</td>\n",
       "      <td>April</td>\n",
       "      <td>CA</td>\n",
       "      <td>Los Angeles</td>\n",
       "    </tr>\n",
       "    <tr>\n",
       "      <th>4</th>\n",
       "      <td>176560</td>\n",
       "      <td>Wired Headphones</td>\n",
       "      <td>1</td>\n",
       "      <td>11.99</td>\n",
       "      <td>2019-04-12 14:38:00</td>\n",
       "      <td>669 Spruce St, Los Angeles, CA 90001</td>\n",
       "      <td>Sales_April_2019.csv</td>\n",
       "      <td>4</td>\n",
       "      <td>11.99</td>\n",
       "      <td>April</td>\n",
       "      <td>CA</td>\n",
       "      <td>Los Angeles</td>\n",
       "    </tr>\n",
       "    <tr>\n",
       "      <th>5</th>\n",
       "      <td>176561</td>\n",
       "      <td>Wired Headphones</td>\n",
       "      <td>1</td>\n",
       "      <td>11.99</td>\n",
       "      <td>2019-04-30 09:27:00</td>\n",
       "      <td>333 8th St, Los Angeles, CA 90001</td>\n",
       "      <td>Sales_April_2019.csv</td>\n",
       "      <td>4</td>\n",
       "      <td>11.99</td>\n",
       "      <td>April</td>\n",
       "      <td>CA</td>\n",
       "      <td>Los Angeles</td>\n",
       "    </tr>\n",
       "    <tr>\n",
       "      <th>6</th>\n",
       "      <td>176562</td>\n",
       "      <td>USB-C Charging Cable</td>\n",
       "      <td>1</td>\n",
       "      <td>11.95</td>\n",
       "      <td>2019-04-29 13:03:00</td>\n",
       "      <td>381 Wilson St, San Francisco, CA 94016</td>\n",
       "      <td>Sales_April_2019.csv</td>\n",
       "      <td>4</td>\n",
       "      <td>11.95</td>\n",
       "      <td>April</td>\n",
       "      <td>CA</td>\n",
       "      <td>San Francisco</td>\n",
       "    </tr>\n",
       "    <tr>\n",
       "      <th>7</th>\n",
       "      <td>176563</td>\n",
       "      <td>Bose SoundSport Headphones</td>\n",
       "      <td>1</td>\n",
       "      <td>99.99</td>\n",
       "      <td>2019-04-02 07:46:00</td>\n",
       "      <td>668 Center St, Seattle, WA 98101</td>\n",
       "      <td>Sales_April_2019.csv</td>\n",
       "      <td>4</td>\n",
       "      <td>99.99</td>\n",
       "      <td>April</td>\n",
       "      <td>WA</td>\n",
       "      <td>Seattle</td>\n",
       "    </tr>\n",
       "    <tr>\n",
       "      <th>8</th>\n",
       "      <td>176564</td>\n",
       "      <td>USB-C Charging Cable</td>\n",
       "      <td>1</td>\n",
       "      <td>11.95</td>\n",
       "      <td>2019-04-12 10:58:00</td>\n",
       "      <td>790 Ridge St, Atlanta, GA 30301</td>\n",
       "      <td>Sales_April_2019.csv</td>\n",
       "      <td>4</td>\n",
       "      <td>11.95</td>\n",
       "      <td>April</td>\n",
       "      <td>GA</td>\n",
       "      <td>Atlanta</td>\n",
       "    </tr>\n",
       "    <tr>\n",
       "      <th>9</th>\n",
       "      <td>176565</td>\n",
       "      <td>Macbook Pro Laptop</td>\n",
       "      <td>1</td>\n",
       "      <td>1700.00</td>\n",
       "      <td>2019-04-24 10:38:00</td>\n",
       "      <td>915 Willow St, San Francisco, CA 94016</td>\n",
       "      <td>Sales_April_2019.csv</td>\n",
       "      <td>4</td>\n",
       "      <td>1700.00</td>\n",
       "      <td>April</td>\n",
       "      <td>CA</td>\n",
       "      <td>San Francisco</td>\n",
       "    </tr>\n",
       "    <tr>\n",
       "      <th>10</th>\n",
       "      <td>176566</td>\n",
       "      <td>Wired Headphones</td>\n",
       "      <td>1</td>\n",
       "      <td>11.99</td>\n",
       "      <td>2019-04-08 14:05:00</td>\n",
       "      <td>83 7th St, Boston, MA 02215</td>\n",
       "      <td>Sales_April_2019.csv</td>\n",
       "      <td>4</td>\n",
       "      <td>11.99</td>\n",
       "      <td>April</td>\n",
       "      <td>MA</td>\n",
       "      <td>Boston</td>\n",
       "    </tr>\n",
       "  </tbody>\n",
       "</table>\n",
       "</div>"
      ],
      "text/plain": [
       "   Order ID                     Product  Quantity Ordered  Price Each  \\\n",
       "0    176558        USB-C Charging Cable                 2       11.95   \n",
       "2    176559  Bose SoundSport Headphones                 1       99.99   \n",
       "3    176560                Google Phone                 1      600.00   \n",
       "4    176560            Wired Headphones                 1       11.99   \n",
       "5    176561            Wired Headphones                 1       11.99   \n",
       "6    176562        USB-C Charging Cable                 1       11.95   \n",
       "7    176563  Bose SoundSport Headphones                 1       99.99   \n",
       "8    176564        USB-C Charging Cable                 1       11.95   \n",
       "9    176565          Macbook Pro Laptop                 1     1700.00   \n",
       "10   176566            Wired Headphones                 1       11.99   \n",
       "\n",
       "            Order Date                        Purchase Address  \\\n",
       "0  2019-04-19 08:46:00            917 1st St, Dallas, TX 75001   \n",
       "2  2019-04-07 22:30:00       682 Chestnut St, Boston, MA 02215   \n",
       "3  2019-04-12 14:38:00    669 Spruce St, Los Angeles, CA 90001   \n",
       "4  2019-04-12 14:38:00    669 Spruce St, Los Angeles, CA 90001   \n",
       "5  2019-04-30 09:27:00       333 8th St, Los Angeles, CA 90001   \n",
       "6  2019-04-29 13:03:00  381 Wilson St, San Francisco, CA 94016   \n",
       "7  2019-04-02 07:46:00        668 Center St, Seattle, WA 98101   \n",
       "8  2019-04-12 10:58:00         790 Ridge St, Atlanta, GA 30301   \n",
       "9  2019-04-24 10:38:00  915 Willow St, San Francisco, CA 94016   \n",
       "10 2019-04-08 14:05:00             83 7th St, Boston, MA 02215   \n",
       "\n",
       "                src_file  Order Month  Bill Amount Order Month Name  \\\n",
       "0   Sales_April_2019.csv            4        23.90            April   \n",
       "2   Sales_April_2019.csv            4        99.99            April   \n",
       "3   Sales_April_2019.csv            4       600.00            April   \n",
       "4   Sales_April_2019.csv            4        11.99            April   \n",
       "5   Sales_April_2019.csv            4        11.99            April   \n",
       "6   Sales_April_2019.csv            4        11.95            April   \n",
       "7   Sales_April_2019.csv            4        99.99            April   \n",
       "8   Sales_April_2019.csv            4        11.95            April   \n",
       "9   Sales_April_2019.csv            4      1700.00            April   \n",
       "10  Sales_April_2019.csv            4        11.99            April   \n",
       "\n",
       "   State Code            City  \n",
       "0          TX          Dallas  \n",
       "2          MA          Boston  \n",
       "3          CA     Los Angeles  \n",
       "4          CA     Los Angeles  \n",
       "5          CA     Los Angeles  \n",
       "6          CA   San Francisco  \n",
       "7          WA         Seattle  \n",
       "8          GA         Atlanta  \n",
       "9          CA   San Francisco  \n",
       "10         MA          Boston  "
      ]
     },
     "execution_count": 41,
     "metadata": {},
     "output_type": "execute_result"
    }
   ],
   "source": [
    "annual_sales.head(10)"
   ]
  },
  {
   "cell_type": "code",
   "execution_count": 42,
   "id": "0dae3d78",
   "metadata": {},
   "outputs": [
    {
     "data": {
      "text/plain": [
       "Order Date           Product                   \n",
       "2019-01-01 03:07:00  Wired Headphones               11.99\n",
       "2019-01-01 03:40:00  USB-C Charging Cable           11.95\n",
       "2019-01-01 04:56:00  Apple Airpods Headphones      150.00\n",
       "2019-01-01 05:53:00  AAA Batteries (4-pack)          2.99\n",
       "2019-01-01 06:03:00  USB-C Charging Cable           23.90\n",
       "                                                    ...  \n",
       "2020-01-01 04:13:00  AAA Batteries (4-pack)          2.99\n",
       "2020-01-01 04:21:00  USB-C Charging Cable           11.95\n",
       "2020-01-01 04:54:00  Bose SoundSport Headphones     99.99\n",
       "2020-01-01 05:13:00  Bose SoundSport Headphones     99.99\n",
       "                     Lightning Charging Cable       14.95\n",
       "Name: Bill Amount, Length: 181877, dtype: float64"
      ]
     },
     "execution_count": 42,
     "metadata": {},
     "output_type": "execute_result"
    }
   ],
   "source": [
    "annual_sales.groupby([\"Order Date\",\"Product\"])[\"Bill Amount\"].sum()"
   ]
  },
  {
   "cell_type": "markdown",
   "id": "73280c40",
   "metadata": {},
   "source": [
    "### Answer:"
   ]
  },
  {
   "cell_type": "code",
   "execution_count": 86,
   "id": "ffec54a4",
   "metadata": {},
   "outputs": [
    {
     "name": "stdout",
     "output_type": "stream",
     "text": [
      "The ('iPhone', 'Lightning Charging Cable') combo was purchased most times 1001 times.\n"
     ]
    }
   ],
   "source": [
    "import pandas as pd\n",
    "\n",
    "# Assuming you have two DataFrames named annual_sales_left and annual_sales_right\n",
    "cols = [\"Order ID\", \"Order Date\", \"Product\", \"Quantity Ordered\", \"Price Each\", \"Bill Amount\"]\n",
    "\n",
    "# Merge two DataFrames\n",
    "merged_df = pd.merge(left=annual_sales[cols],\n",
    "                     right=annual_sales[cols],\n",
    "                     left_on=[\"Order ID\"],\n",
    "                     right_on=[\"Order ID\"],\n",
    "                     how=\"inner\",\n",
    "                     suffixes=('_l', '_r'))\n",
    "\n",
    "# Calculate the total quantity ordered for each combination\n",
    "merged_df[\"tqo_lr\"] = merged_df[\"Quantity Ordered_l\"] + merged_df[\"Quantity Ordered_r\"]\n",
    "\n",
    "# Drop duplicate rows based on \"Order ID\"\n",
    "final_merge = merged_df.loc[~(merged_df['Product_l'] == merged_df['Product_r'])].drop_duplicates(subset=[\"Order ID\"], keep='first')\n",
    "\n",
    "# Group by the combination of \"Product_l\" and \"Product_r\" and calculate the sum of \"Order ID\"\n",
    "fmc = final_merge.groupby([\"Product_l\", \"Product_r\"]).size().sort_values(ascending=False)\n",
    "\n",
    "# Extract the top combo and its count\n",
    "top_combo = fmc.idxmax()\n",
    "print(f'The {top_combo} combo was purchased most times {fmc.max()} times.')\n"
   ]
  },
  {
   "cell_type": "code",
   "execution_count": 89,
   "id": "af4a21ef",
   "metadata": {},
   "outputs": [
    {
     "name": "stdout",
     "output_type": "stream",
     "text": [
      " The ('iPhone', 'Lightning Charging Cable') combo was purchased most times at 1,001\n"
     ]
    }
   ],
   "source": [
    "cols = [\"Order ID\",\"Order Date\",\"Product\",\"Quantity Ordered\",\"Price Each\",\"Bill Amount\"]\n",
    "merged_df = pd.merge(left= annual_sales[cols],\n",
    "        right= annual_sales[cols],\n",
    "        left_on=[\"Order ID\"],\n",
    "        right_on=[\"Order ID\"],\n",
    "        how=\"inner\",\n",
    "        suffixes=('_l','_r'))\n",
    "final_merge = merged_df.loc[~(merged_df['Product_l'] == merged_df['Product_r']),:]\n",
    "final_merge.drop_duplicates(subset=[\"Order ID\"],keep='first')\n",
    "final_merge = final_merge.drop_duplicates(subset=[\"Order ID\"],keep='first')\n",
    "fmc = final_merge.groupby([\"Product_l\",\"Product_r\"]).size().sort_values(ascending=False)\n",
    "combo = list(map(lambda x: x[:2],fmc.index))\n",
    "                                                      \n",
    "print(f' The {combo[0]} combo was purchased most times at {fmc[0]:,}')"
   ]
  },
  {
   "cell_type": "code",
   "execution_count": 94,
   "id": "c4a3ea6c",
   "metadata": {
    "scrolled": true
   },
   "outputs": [
    {
     "name": "stdout",
     "output_type": "stream",
     "text": [
      " The ('iPhone', 'Lightning Charging Cable') combo was purchased most times at 1,001\n"
     ]
    }
   ],
   "source": [
    "cols = [\"Order ID\",\"Order Date\",\"Product\",\"Quantity Ordered\",\"Price Each\",\"Bill Amount\"]\n",
    "merged_df = pd.merge(left= annual_sales[cols],\n",
    "        right= annual_sales[cols],\n",
    "        left_on=[\"Order ID\"],\n",
    "        right_on=[\"Order ID\"],\n",
    "        how=\"inner\",\n",
    "        suffixes=('_l','_r'))\n",
    "merged_df[\"tqo_lr\"] = merged_df[\"Quantity Ordered_l\"] + merged_df[\"Quantity Ordered_r\"]\n",
    "final_merge = merged_df.loc[~(merged_df['Product_l'] == merged_df['Product_r']),:]\n",
    "final_merge.drop_duplicates(subset=[\"Order ID\"],keep='first')\n",
    "final_merge = final_merge.drop_duplicates(subset=[\"Order ID\"],keep='first')\n",
    "fmc = final_merge.groupby([\"Product_l\",\"Product_r\"])[\"Order ID\"].count().sort_values(ascending=False)\n",
    "combo = list(map(lambda x: x[:2],fmc.index))\n",
    "                                                      \n",
    "print(f' The {combo[0]} combo was purchased most times at {fmc[0]:,}')"
   ]
  },
  {
   "cell_type": "raw",
   "id": "b0299cc6",
   "metadata": {},
   "source": [
    "\n",
    "\n",
    "cols = [\"Order ID\", \"Order Date\",\"Product\",\"Quantity Ordered\",\"Price Each\",\"Bill Amount\"]\n",
    "merged_df = pd.merge(left= final_df[cols],\n",
    "        right= final_df[cols],\n",
    "        left_on=[\"Order ID\"],\n",
    "        right_on=[\"Order ID\"],\n",
    "        how=\"inner\",\n",
    "        suffixes=('_l','_r'))\n",
    "merged_df[\"tqo_lr\"] = merged_df[\"Quantity Ordered_l\"] + merged_df[\"Quantity Ordered_r\"]\n",
    "final_merge = merged_df.loc[~(merged_df['Product_l'] == merged_df['Product_r']),:]\n",
    "final_merge = final_merge.drop_duplicates(subset=[\"Order ID\"],keep='first')\n",
    "fmc = final_merge.groupby([\"Product_l\",\"Product_r\"])[\"tqo_lr\"].sum().sort_values(ascending=False)\n",
    "combo = list(map(lambda x: x[:2],fmc.index))\n",
    "                                                      \n",
    "print(f' The {combo[0]} combo was purchased most times at {fmc[0]:,}')"
   ]
  },
  {
   "cell_type": "raw",
   "id": "cae8c4c8",
   "metadata": {},
   "source": [
    "cols = [\"Order ID\", \"Order Date\",\"Product\",\"Quantity Ordered\",\"Price Each\",\"Bill Amount\"]\n",
    "merged_df = pd.merge(left= final_df[cols],\n",
    "        right= final_df[cols],\n",
    "        left_on=[\"Order ID\"],\n",
    "        right_on=[\"Order ID\"],\n",
    "        how=\"inner\",\n",
    "        suffixes=('_l','_r'))\n",
    "        \n",
    "final_merge = merged_df.loc[~(merged_df['Product_l'] == merged_df['Product_r']),:]\n",
    "final_merge = final_merge.drop_duplicates(subset=[\"Order ID\"],keep='first')\n",
    "\n",
    "fmc = final_merge.groupby([\"Product_l\",\"Product_r\"])[\"Order ID\"].count().sort_values(ascending=False)\n",
    "combo = list(map(lambda x: x[:2],fmc.index))\n",
    "                                                      \n",
    "print(f' The {combo[0]} combo was purchased most times at {fmc[0]:,}')"
   ]
  },
  {
   "cell_type": "markdown",
   "id": "08e8db69",
   "metadata": {},
   "source": [
    "https://realpython.com/pandas-project-gradebook/"
   ]
  },
  {
   "cell_type": "code",
   "execution_count": 95,
   "id": "1ac9b257",
   "metadata": {},
   "outputs": [
    {
     "data": {
      "text/plain": [
       "Product_l        Product_r               \n",
       "iPhone           Lightning Charging Cable    1001\n",
       "Google Phone     USB-C Charging Cable         984\n",
       "iPhone           Wired Headphones             362\n",
       "Vareebadd Phone  USB-C Charging Cable         361\n",
       "iPhone           Apple Airpods Headphones     313\n",
       "                                             ... \n",
       "LG Dryer         Flatscreen TV                  1\n",
       "                 AAA Batteries (4-pack)         1\n",
       "Vareebadd Phone  iPhone                         1\n",
       "LG Dryer         27in FHD Monitor               1\n",
       "Google Phone     27in 4K Gaming Monitor         1\n",
       "Name: Order ID, Length: 296, dtype: int64"
      ]
     },
     "execution_count": 95,
     "metadata": {},
     "output_type": "execute_result"
    }
   ],
   "source": [
    "fmc"
   ]
  },
  {
   "cell_type": "code",
   "execution_count": 44,
   "id": "71b6e620",
   "metadata": {},
   "outputs": [],
   "source": [
    "final_merge = merged_df.loc[~(merged_df['Product_l'] == merged_df['Product_r']),:]"
   ]
  },
  {
   "cell_type": "code",
   "execution_count": 78,
   "id": "1e51860c",
   "metadata": {
    "scrolled": true
   },
   "outputs": [
    {
     "data": {
      "text/html": [
       "<div>\n",
       "<style scoped>\n",
       "    .dataframe tbody tr th:only-of-type {\n",
       "        vertical-align: middle;\n",
       "    }\n",
       "\n",
       "    .dataframe tbody tr th {\n",
       "        vertical-align: top;\n",
       "    }\n",
       "\n",
       "    .dataframe thead th {\n",
       "        text-align: right;\n",
       "    }\n",
       "</style>\n",
       "<table border=\"1\" class=\"dataframe\">\n",
       "  <thead>\n",
       "    <tr style=\"text-align: right;\">\n",
       "      <th></th>\n",
       "      <th>Order ID</th>\n",
       "      <th>Order Date_l</th>\n",
       "      <th>Product_l</th>\n",
       "      <th>Quantity Ordered_l</th>\n",
       "      <th>Price Each_l</th>\n",
       "      <th>Bill Amount_l</th>\n",
       "      <th>Order Date_r</th>\n",
       "      <th>Product_r</th>\n",
       "      <th>Quantity Ordered_r</th>\n",
       "      <th>Price Each_r</th>\n",
       "      <th>Bill Amount_r</th>\n",
       "      <th>tqo_lr</th>\n",
       "    </tr>\n",
       "  </thead>\n",
       "  <tbody>\n",
       "    <tr>\n",
       "      <th>3</th>\n",
       "      <td>176560</td>\n",
       "      <td>2019-04-12 14:38:00</td>\n",
       "      <td>Google Phone</td>\n",
       "      <td>1</td>\n",
       "      <td>600.00</td>\n",
       "      <td>600.00</td>\n",
       "      <td>2019-04-12 14:38:00</td>\n",
       "      <td>Wired Headphones</td>\n",
       "      <td>1</td>\n",
       "      <td>11.99</td>\n",
       "      <td>11.99</td>\n",
       "      <td>2</td>\n",
       "    </tr>\n",
       "    <tr>\n",
       "      <th>20</th>\n",
       "      <td>176574</td>\n",
       "      <td>2019-04-03 19:42:00</td>\n",
       "      <td>Google Phone</td>\n",
       "      <td>1</td>\n",
       "      <td>600.00</td>\n",
       "      <td>600.00</td>\n",
       "      <td>2019-04-03 19:42:00</td>\n",
       "      <td>USB-C Charging Cable</td>\n",
       "      <td>1</td>\n",
       "      <td>11.95</td>\n",
       "      <td>11.95</td>\n",
       "      <td>2</td>\n",
       "    </tr>\n",
       "    <tr>\n",
       "      <th>38</th>\n",
       "      <td>176586</td>\n",
       "      <td>2019-04-10 17:00:00</td>\n",
       "      <td>AAA Batteries (4-pack)</td>\n",
       "      <td>2</td>\n",
       "      <td>2.99</td>\n",
       "      <td>5.98</td>\n",
       "      <td>2019-04-10 17:00:00</td>\n",
       "      <td>Google Phone</td>\n",
       "      <td>1</td>\n",
       "      <td>600.00</td>\n",
       "      <td>600.00</td>\n",
       "      <td>3</td>\n",
       "    </tr>\n",
       "    <tr>\n",
       "      <th>127</th>\n",
       "      <td>176672</td>\n",
       "      <td>2019-04-12 11:07:00</td>\n",
       "      <td>Lightning Charging Cable</td>\n",
       "      <td>1</td>\n",
       "      <td>14.95</td>\n",
       "      <td>14.95</td>\n",
       "      <td>2019-04-12 11:07:00</td>\n",
       "      <td>USB-C Charging Cable</td>\n",
       "      <td>1</td>\n",
       "      <td>11.95</td>\n",
       "      <td>11.95</td>\n",
       "      <td>2</td>\n",
       "    </tr>\n",
       "    <tr>\n",
       "      <th>139</th>\n",
       "      <td>176681</td>\n",
       "      <td>2019-04-20 10:39:00</td>\n",
       "      <td>Apple Airpods Headphones</td>\n",
       "      <td>1</td>\n",
       "      <td>150.00</td>\n",
       "      <td>150.00</td>\n",
       "      <td>2019-04-20 10:39:00</td>\n",
       "      <td>ThinkPad Laptop</td>\n",
       "      <td>1</td>\n",
       "      <td>999.99</td>\n",
       "      <td>999.99</td>\n",
       "      <td>2</td>\n",
       "    </tr>\n",
       "    <tr>\n",
       "      <th>...</th>\n",
       "      <td>...</td>\n",
       "      <td>...</td>\n",
       "      <td>...</td>\n",
       "      <td>...</td>\n",
       "      <td>...</td>\n",
       "      <td>...</td>\n",
       "      <td>...</td>\n",
       "      <td>...</td>\n",
       "      <td>...</td>\n",
       "      <td>...</td>\n",
       "      <td>...</td>\n",
       "      <td>...</td>\n",
       "    </tr>\n",
       "    <tr>\n",
       "      <th>201667</th>\n",
       "      <td>259277</td>\n",
       "      <td>2019-09-28 13:07:00</td>\n",
       "      <td>iPhone</td>\n",
       "      <td>1</td>\n",
       "      <td>700.00</td>\n",
       "      <td>700.00</td>\n",
       "      <td>2019-09-28 13:07:00</td>\n",
       "      <td>Wired Headphones</td>\n",
       "      <td>2</td>\n",
       "      <td>11.99</td>\n",
       "      <td>23.98</td>\n",
       "      <td>3</td>\n",
       "    </tr>\n",
       "    <tr>\n",
       "      <th>201693</th>\n",
       "      <td>259297</td>\n",
       "      <td>2019-09-15 18:54:00</td>\n",
       "      <td>iPhone</td>\n",
       "      <td>1</td>\n",
       "      <td>700.00</td>\n",
       "      <td>700.00</td>\n",
       "      <td>2019-09-15 18:54:00</td>\n",
       "      <td>Lightning Charging Cable</td>\n",
       "      <td>1</td>\n",
       "      <td>14.95</td>\n",
       "      <td>14.95</td>\n",
       "      <td>2</td>\n",
       "    </tr>\n",
       "    <tr>\n",
       "      <th>201707</th>\n",
       "      <td>259303</td>\n",
       "      <td>2019-09-20 20:18:00</td>\n",
       "      <td>34in Ultrawide Monitor</td>\n",
       "      <td>1</td>\n",
       "      <td>379.99</td>\n",
       "      <td>379.99</td>\n",
       "      <td>2019-09-20 20:18:00</td>\n",
       "      <td>AA Batteries (4-pack)</td>\n",
       "      <td>1</td>\n",
       "      <td>3.84</td>\n",
       "      <td>3.84</td>\n",
       "      <td>2</td>\n",
       "    </tr>\n",
       "    <tr>\n",
       "      <th>201721</th>\n",
       "      <td>259314</td>\n",
       "      <td>2019-09-16 00:25:00</td>\n",
       "      <td>Wired Headphones</td>\n",
       "      <td>1</td>\n",
       "      <td>11.99</td>\n",
       "      <td>11.99</td>\n",
       "      <td>2019-09-16 00:25:00</td>\n",
       "      <td>AAA Batteries (4-pack)</td>\n",
       "      <td>2</td>\n",
       "      <td>2.99</td>\n",
       "      <td>5.98</td>\n",
       "      <td>3</td>\n",
       "    </tr>\n",
       "    <tr>\n",
       "      <th>201760</th>\n",
       "      <td>259350</td>\n",
       "      <td>2019-09-30 13:49:00</td>\n",
       "      <td>Google Phone</td>\n",
       "      <td>1</td>\n",
       "      <td>600.00</td>\n",
       "      <td>600.00</td>\n",
       "      <td>2019-09-30 13:49:00</td>\n",
       "      <td>USB-C Charging Cable</td>\n",
       "      <td>1</td>\n",
       "      <td>11.95</td>\n",
       "      <td>11.95</td>\n",
       "      <td>2</td>\n",
       "    </tr>\n",
       "  </tbody>\n",
       "</table>\n",
       "<p>6832 rows × 12 columns</p>\n",
       "</div>"
      ],
      "text/plain": [
       "       Order ID        Order Date_l                 Product_l  \\\n",
       "3        176560 2019-04-12 14:38:00              Google Phone   \n",
       "20       176574 2019-04-03 19:42:00              Google Phone   \n",
       "38       176586 2019-04-10 17:00:00    AAA Batteries (4-pack)   \n",
       "127      176672 2019-04-12 11:07:00  Lightning Charging Cable   \n",
       "139      176681 2019-04-20 10:39:00  Apple Airpods Headphones   \n",
       "...         ...                 ...                       ...   \n",
       "201667   259277 2019-09-28 13:07:00                    iPhone   \n",
       "201693   259297 2019-09-15 18:54:00                    iPhone   \n",
       "201707   259303 2019-09-20 20:18:00    34in Ultrawide Monitor   \n",
       "201721   259314 2019-09-16 00:25:00          Wired Headphones   \n",
       "201760   259350 2019-09-30 13:49:00              Google Phone   \n",
       "\n",
       "        Quantity Ordered_l  Price Each_l  Bill Amount_l        Order Date_r  \\\n",
       "3                        1        600.00         600.00 2019-04-12 14:38:00   \n",
       "20                       1        600.00         600.00 2019-04-03 19:42:00   \n",
       "38                       2          2.99           5.98 2019-04-10 17:00:00   \n",
       "127                      1         14.95          14.95 2019-04-12 11:07:00   \n",
       "139                      1        150.00         150.00 2019-04-20 10:39:00   \n",
       "...                    ...           ...            ...                 ...   \n",
       "201667                   1        700.00         700.00 2019-09-28 13:07:00   \n",
       "201693                   1        700.00         700.00 2019-09-15 18:54:00   \n",
       "201707                   1        379.99         379.99 2019-09-20 20:18:00   \n",
       "201721                   1         11.99          11.99 2019-09-16 00:25:00   \n",
       "201760                   1        600.00         600.00 2019-09-30 13:49:00   \n",
       "\n",
       "                       Product_r  Quantity Ordered_r  Price Each_r  \\\n",
       "3               Wired Headphones                   1         11.99   \n",
       "20          USB-C Charging Cable                   1         11.95   \n",
       "38                  Google Phone                   1        600.00   \n",
       "127         USB-C Charging Cable                   1         11.95   \n",
       "139              ThinkPad Laptop                   1        999.99   \n",
       "...                          ...                 ...           ...   \n",
       "201667          Wired Headphones                   2         11.99   \n",
       "201693  Lightning Charging Cable                   1         14.95   \n",
       "201707     AA Batteries (4-pack)                   1          3.84   \n",
       "201721    AAA Batteries (4-pack)                   2          2.99   \n",
       "201760      USB-C Charging Cable                   1         11.95   \n",
       "\n",
       "        Bill Amount_r  tqo_lr  \n",
       "3               11.99       2  \n",
       "20              11.95       2  \n",
       "38             600.00       3  \n",
       "127             11.95       2  \n",
       "139            999.99       2  \n",
       "...               ...     ...  \n",
       "201667          23.98       3  \n",
       "201693          14.95       2  \n",
       "201707           3.84       2  \n",
       "201721           5.98       3  \n",
       "201760          11.95       2  \n",
       "\n",
       "[6832 rows x 12 columns]"
      ]
     },
     "execution_count": 78,
     "metadata": {},
     "output_type": "execute_result"
    }
   ],
   "source": [
    "final_merge.drop_duplicates(subset=[\"Order ID\"],keep='first')"
   ]
  },
  {
   "cell_type": "code",
   "execution_count": 55,
   "id": "20a00c4b",
   "metadata": {
    "scrolled": true
   },
   "outputs": [
    {
     "data": {
      "text/html": [
       "<div>\n",
       "<style scoped>\n",
       "    .dataframe tbody tr th:only-of-type {\n",
       "        vertical-align: middle;\n",
       "    }\n",
       "\n",
       "    .dataframe tbody tr th {\n",
       "        vertical-align: top;\n",
       "    }\n",
       "\n",
       "    .dataframe thead th {\n",
       "        text-align: right;\n",
       "    }\n",
       "</style>\n",
       "<table border=\"1\" class=\"dataframe\">\n",
       "  <thead>\n",
       "    <tr style=\"text-align: right;\">\n",
       "      <th></th>\n",
       "      <th>Order Date</th>\n",
       "      <th>Product_l</th>\n",
       "      <th>Quantity Ordered_l</th>\n",
       "      <th>Price Each_l</th>\n",
       "      <th>Bill Amount_l</th>\n",
       "      <th>Product_r</th>\n",
       "      <th>Quantity Ordered_r</th>\n",
       "      <th>Price Each_r</th>\n",
       "      <th>Bill Amount_r</th>\n",
       "      <th>tqo_lr</th>\n",
       "    </tr>\n",
       "  </thead>\n",
       "  <tbody>\n",
       "    <tr>\n",
       "      <th>0</th>\n",
       "      <td>2019-04-19 08:46:00</td>\n",
       "      <td>USB-C Charging Cable</td>\n",
       "      <td>2</td>\n",
       "      <td>11.95</td>\n",
       "      <td>23.90</td>\n",
       "      <td>USB-C Charging Cable</td>\n",
       "      <td>2</td>\n",
       "      <td>11.95</td>\n",
       "      <td>23.90</td>\n",
       "      <td>4</td>\n",
       "    </tr>\n",
       "    <tr>\n",
       "      <th>1</th>\n",
       "      <td>2019-04-19 08:46:00</td>\n",
       "      <td>USB-C Charging Cable</td>\n",
       "      <td>2</td>\n",
       "      <td>11.95</td>\n",
       "      <td>23.90</td>\n",
       "      <td>Wired Headphones</td>\n",
       "      <td>1</td>\n",
       "      <td>11.99</td>\n",
       "      <td>11.99</td>\n",
       "      <td>3</td>\n",
       "    </tr>\n",
       "    <tr>\n",
       "      <th>2</th>\n",
       "      <td>2019-04-19 08:46:00</td>\n",
       "      <td>Wired Headphones</td>\n",
       "      <td>1</td>\n",
       "      <td>11.99</td>\n",
       "      <td>11.99</td>\n",
       "      <td>USB-C Charging Cable</td>\n",
       "      <td>2</td>\n",
       "      <td>11.95</td>\n",
       "      <td>23.90</td>\n",
       "      <td>3</td>\n",
       "    </tr>\n",
       "    <tr>\n",
       "      <th>3</th>\n",
       "      <td>2019-04-19 08:46:00</td>\n",
       "      <td>Wired Headphones</td>\n",
       "      <td>1</td>\n",
       "      <td>11.99</td>\n",
       "      <td>11.99</td>\n",
       "      <td>Wired Headphones</td>\n",
       "      <td>1</td>\n",
       "      <td>11.99</td>\n",
       "      <td>11.99</td>\n",
       "      <td>2</td>\n",
       "    </tr>\n",
       "    <tr>\n",
       "      <th>4</th>\n",
       "      <td>2019-04-07 22:30:00</td>\n",
       "      <td>Bose SoundSport Headphones</td>\n",
       "      <td>1</td>\n",
       "      <td>99.99</td>\n",
       "      <td>99.99</td>\n",
       "      <td>Bose SoundSport Headphones</td>\n",
       "      <td>1</td>\n",
       "      <td>99.99</td>\n",
       "      <td>99.99</td>\n",
       "      <td>2</td>\n",
       "    </tr>\n",
       "    <tr>\n",
       "      <th>...</th>\n",
       "      <td>...</td>\n",
       "      <td>...</td>\n",
       "      <td>...</td>\n",
       "      <td>...</td>\n",
       "      <td>...</td>\n",
       "      <td>...</td>\n",
       "      <td>...</td>\n",
       "      <td>...</td>\n",
       "      <td>...</td>\n",
       "      <td>...</td>\n",
       "    </tr>\n",
       "    <tr>\n",
       "      <th>295059</th>\n",
       "      <td>2019-09-07 15:49:00</td>\n",
       "      <td>USB-C Charging Cable</td>\n",
       "      <td>1</td>\n",
       "      <td>11.95</td>\n",
       "      <td>11.95</td>\n",
       "      <td>USB-C Charging Cable</td>\n",
       "      <td>1</td>\n",
       "      <td>11.95</td>\n",
       "      <td>11.95</td>\n",
       "      <td>2</td>\n",
       "    </tr>\n",
       "    <tr>\n",
       "      <th>295060</th>\n",
       "      <td>2019-09-01 16:00:00</td>\n",
       "      <td>iPhone</td>\n",
       "      <td>1</td>\n",
       "      <td>700.00</td>\n",
       "      <td>700.00</td>\n",
       "      <td>iPhone</td>\n",
       "      <td>1</td>\n",
       "      <td>700.00</td>\n",
       "      <td>700.00</td>\n",
       "      <td>2</td>\n",
       "    </tr>\n",
       "    <tr>\n",
       "      <th>295061</th>\n",
       "      <td>2019-09-23 07:39:00</td>\n",
       "      <td>iPhone</td>\n",
       "      <td>1</td>\n",
       "      <td>700.00</td>\n",
       "      <td>700.00</td>\n",
       "      <td>iPhone</td>\n",
       "      <td>1</td>\n",
       "      <td>700.00</td>\n",
       "      <td>700.00</td>\n",
       "      <td>2</td>\n",
       "    </tr>\n",
       "    <tr>\n",
       "      <th>295062</th>\n",
       "      <td>2019-09-19 17:30:00</td>\n",
       "      <td>34in Ultrawide Monitor</td>\n",
       "      <td>1</td>\n",
       "      <td>379.99</td>\n",
       "      <td>379.99</td>\n",
       "      <td>34in Ultrawide Monitor</td>\n",
       "      <td>1</td>\n",
       "      <td>379.99</td>\n",
       "      <td>379.99</td>\n",
       "      <td>2</td>\n",
       "    </tr>\n",
       "    <tr>\n",
       "      <th>295063</th>\n",
       "      <td>2019-09-30 00:18:00</td>\n",
       "      <td>USB-C Charging Cable</td>\n",
       "      <td>1</td>\n",
       "      <td>11.95</td>\n",
       "      <td>11.95</td>\n",
       "      <td>USB-C Charging Cable</td>\n",
       "      <td>1</td>\n",
       "      <td>11.95</td>\n",
       "      <td>11.95</td>\n",
       "      <td>2</td>\n",
       "    </tr>\n",
       "  </tbody>\n",
       "</table>\n",
       "<p>295064 rows × 10 columns</p>\n",
       "</div>"
      ],
      "text/plain": [
       "                Order Date                   Product_l  Quantity Ordered_l  \\\n",
       "0      2019-04-19 08:46:00        USB-C Charging Cable                   2   \n",
       "1      2019-04-19 08:46:00        USB-C Charging Cable                   2   \n",
       "2      2019-04-19 08:46:00            Wired Headphones                   1   \n",
       "3      2019-04-19 08:46:00            Wired Headphones                   1   \n",
       "4      2019-04-07 22:30:00  Bose SoundSport Headphones                   1   \n",
       "...                    ...                         ...                 ...   \n",
       "295059 2019-09-07 15:49:00        USB-C Charging Cable                   1   \n",
       "295060 2019-09-01 16:00:00                      iPhone                   1   \n",
       "295061 2019-09-23 07:39:00                      iPhone                   1   \n",
       "295062 2019-09-19 17:30:00      34in Ultrawide Monitor                   1   \n",
       "295063 2019-09-30 00:18:00        USB-C Charging Cable                   1   \n",
       "\n",
       "        Price Each_l  Bill Amount_l                   Product_r  \\\n",
       "0              11.95          23.90        USB-C Charging Cable   \n",
       "1              11.95          23.90            Wired Headphones   \n",
       "2              11.99          11.99        USB-C Charging Cable   \n",
       "3              11.99          11.99            Wired Headphones   \n",
       "4              99.99          99.99  Bose SoundSport Headphones   \n",
       "...              ...            ...                         ...   \n",
       "295059         11.95          11.95        USB-C Charging Cable   \n",
       "295060        700.00         700.00                      iPhone   \n",
       "295061        700.00         700.00                      iPhone   \n",
       "295062        379.99         379.99      34in Ultrawide Monitor   \n",
       "295063         11.95          11.95        USB-C Charging Cable   \n",
       "\n",
       "        Quantity Ordered_r  Price Each_r  Bill Amount_r  tqo_lr  \n",
       "0                        2         11.95          23.90       4  \n",
       "1                        1         11.99          11.99       3  \n",
       "2                        2         11.95          23.90       3  \n",
       "3                        1         11.99          11.99       2  \n",
       "4                        1         99.99          99.99       2  \n",
       "...                    ...           ...            ...     ...  \n",
       "295059                   1         11.95          11.95       2  \n",
       "295060                   1        700.00         700.00       2  \n",
       "295061                   1        700.00         700.00       2  \n",
       "295062                   1        379.99         379.99       2  \n",
       "295063                   1         11.95          11.95       2  \n",
       "\n",
       "[295064 rows x 10 columns]"
      ]
     },
     "execution_count": 55,
     "metadata": {},
     "output_type": "execute_result"
    }
   ],
   "source": [
    "merged_df.drop('tba_lr',axis=1)"
   ]
  },
  {
   "cell_type": "code",
   "execution_count": 46,
   "id": "4ed173d9",
   "metadata": {},
   "outputs": [],
   "source": [
    "merged_df[\"tqo_lr\"] = merged_df[\"Quantity Ordered_l\"] + merged_df[\"Quantity Ordered_r\"]"
   ]
  },
  {
   "cell_type": "code",
   "execution_count": 47,
   "id": "aecdf5d3",
   "metadata": {
    "scrolled": true
   },
   "outputs": [
    {
     "name": "stdout",
     "output_type": "stream",
     "text": [
      " The ('AA Batteries (4-pack)', 'AAA Batteries (4-pack)') combo was purchased most times at 3,723\n"
     ]
    }
   ],
   "source": [
    "merged_df[\"tqo_lr\"] = merged_df[\"Quantity Ordered_l\"] + merged_df[\"Quantity Ordered_r\"]\n",
    "final_merge = merged_df.loc[~(merged_df['Product_l'] == merged_df['Product_r']),:]\n",
    "fmc = final_merge.groupby([\"Product_l\",\"Product_r\"])[\"tba_lr\"].sum().sort_values(ascending=False)\n",
    "combo = list(map(lambda x: x[:2],fmc.index))\n",
    "                                                      \n",
    "print(f' The {combo[0]} combo was purchased most times at {fmc[0]:,}')"
   ]
  },
  {
   "cell_type": "code",
   "execution_count": 66,
   "id": "be74ca35",
   "metadata": {},
   "outputs": [
    {
     "data": {
      "text/plain": [
       "Product_l                 Product_r               \n",
       "Lightning Charging Cable  iPhone                      2100\n",
       "iPhone                    Lightning Charging Cable    2100\n",
       "USB-C Charging Cable      Google Phone                2081\n",
       "Google Phone              USB-C Charging Cable        2081\n",
       "iPhone                    Wired Headphones             963\n",
       "                                                      ... \n",
       "Google Phone              LG Dryer                       2\n",
       "27in 4K Gaming Monitor    LG Washing Machine             2\n",
       "ThinkPad Laptop           LG Dryer                       2\n",
       "Flatscreen TV             LG Dryer                       2\n",
       "Vareebadd Phone           LG Dryer                       2\n",
       "Name: tqo_lr, Length: 318, dtype: int32"
      ]
     },
     "execution_count": 66,
     "metadata": {},
     "output_type": "execute_result"
    }
   ],
   "source": [
    "final_merge.groupby([\"Product_l\",\"Product_r\"])[\"tqo_lr\"].sum().sort_values(ascending=False)"
   ]
  },
  {
   "cell_type": "code",
   "execution_count": 49,
   "id": "3d8cb878",
   "metadata": {},
   "outputs": [
    {
     "data": {
      "text/plain": [
       "Product_l     Product_r             \n",
       "20in Monitor  27in 4K Gaming Monitor     141\n",
       "              27in FHD Monitor           178\n",
       "              34in Ultrawide Monitor     167\n",
       "              AA Batteries (4-pack)      618\n",
       "              AAA Batteries (4-pack)     637\n",
       "                                        ... \n",
       "iPhone        Macbook Pro Laptop         222\n",
       "              ThinkPad Laptop            150\n",
       "              USB-C Charging Cable       834\n",
       "              Vareebadd Phone             72\n",
       "              Wired Headphones          1699\n",
       "Name: tba_lr, Length: 342, dtype: int32"
      ]
     },
     "execution_count": 49,
     "metadata": {},
     "output_type": "execute_result"
    }
   ],
   "source": [
    "final_merge.groupby([\"Product_l\",\"Product_r\"])[\"tqo_lr\"].sum()"
   ]
  },
  {
   "cell_type": "code",
   "execution_count": 50,
   "id": "5573f130",
   "metadata": {},
   "outputs": [
    {
     "data": {
      "text/plain": [
       "('AA Batteries (4-pack)', 'Apple Airpods Headphones')"
      ]
     },
     "execution_count": 50,
     "metadata": {},
     "output_type": "execute_result"
    }
   ],
   "source": [
    "list(map(lambda x: x[1:3],final_merge.groupby([\"Order Date\",\"Product_l\",\"Product_r\"])[\"tqo_lr\"].sum().sort_values(ascending=False).index))[0]"
   ]
  },
  {
   "cell_type": "code",
   "execution_count": 56,
   "id": "834aaafb",
   "metadata": {},
   "outputs": [
    {
     "data": {
      "text/plain": [
       "Product_l                 Product_r             \n",
       "AA Batteries (4-pack)     AAA Batteries (4-pack)    3723\n",
       "AAA Batteries (4-pack)    AA Batteries (4-pack)     3723\n",
       "                          USB-C Charging Cable      3567\n",
       "USB-C Charging Cable      AAA Batteries (4-pack)    3567\n",
       "Lightning Charging Cable  AAA Batteries (4-pack)    3334\n",
       "                                                    ... \n",
       "Vareebadd Phone           LG Washing Machine           6\n",
       "LG Washing Machine        LG Dryer                     2\n",
       "LG Dryer                  Vareebadd Phone              2\n",
       "                          LG Washing Machine           2\n",
       "Vareebadd Phone           LG Dryer                     2\n",
       "Name: tqo_lr, Length: 342, dtype: int32"
      ]
     },
     "execution_count": 56,
     "metadata": {},
     "output_type": "execute_result"
    }
   ],
   "source": [
    "final_merge.groupby([\"Product_l\",\"Product_r\"])[\"tqo_lr\"].sum().sort_values(ascending=False)"
   ]
  },
  {
   "cell_type": "code",
   "execution_count": 52,
   "id": "aee4f4ce",
   "metadata": {},
   "outputs": [
    {
     "data": {
      "text/html": [
       "<div>\n",
       "<style scoped>\n",
       "    .dataframe tbody tr th:only-of-type {\n",
       "        vertical-align: middle;\n",
       "    }\n",
       "\n",
       "    .dataframe tbody tr th {\n",
       "        vertical-align: top;\n",
       "    }\n",
       "\n",
       "    .dataframe thead th {\n",
       "        text-align: right;\n",
       "    }\n",
       "</style>\n",
       "<table border=\"1\" class=\"dataframe\">\n",
       "  <thead>\n",
       "    <tr style=\"text-align: right;\">\n",
       "      <th></th>\n",
       "      <th>Order Date</th>\n",
       "      <th>Product_l</th>\n",
       "      <th>Quantity Ordered_l</th>\n",
       "      <th>Price Each_l</th>\n",
       "      <th>Bill Amount_l</th>\n",
       "      <th>Product_r</th>\n",
       "      <th>Quantity Ordered_r</th>\n",
       "      <th>Price Each_r</th>\n",
       "      <th>Bill Amount_r</th>\n",
       "      <th>tqo_lr</th>\n",
       "      <th>tba_lr</th>\n",
       "    </tr>\n",
       "  </thead>\n",
       "  <tbody>\n",
       "    <tr>\n",
       "      <th>5</th>\n",
       "      <td>2019-04-07 22:30:00</td>\n",
       "      <td>Bose SoundSport Headphones</td>\n",
       "      <td>1</td>\n",
       "      <td>99.99</td>\n",
       "      <td>99.99</td>\n",
       "      <td>AA Batteries (4-pack)</td>\n",
       "      <td>1</td>\n",
       "      <td>3.84</td>\n",
       "      <td>3.84</td>\n",
       "      <td>2</td>\n",
       "      <td>2</td>\n",
       "    </tr>\n",
       "    <tr>\n",
       "      <th>31</th>\n",
       "      <td>2019-04-12 10:58:00</td>\n",
       "      <td>USB-C Charging Cable</td>\n",
       "      <td>1</td>\n",
       "      <td>11.95</td>\n",
       "      <td>11.95</td>\n",
       "      <td>AA Batteries (4-pack)</td>\n",
       "      <td>1</td>\n",
       "      <td>3.84</td>\n",
       "      <td>3.84</td>\n",
       "      <td>2</td>\n",
       "      <td>2</td>\n",
       "    </tr>\n",
       "    <tr>\n",
       "      <th>34</th>\n",
       "      <td>2019-04-12 10:58:00</td>\n",
       "      <td>27in 4K Gaming Monitor</td>\n",
       "      <td>1</td>\n",
       "      <td>389.99</td>\n",
       "      <td>389.99</td>\n",
       "      <td>AA Batteries (4-pack)</td>\n",
       "      <td>1</td>\n",
       "      <td>3.84</td>\n",
       "      <td>3.84</td>\n",
       "      <td>2</td>\n",
       "      <td>2</td>\n",
       "    </tr>\n",
       "    <tr>\n",
       "      <th>64</th>\n",
       "      <td>2019-04-16 19:23:00</td>\n",
       "      <td>27in 4K Gaming Monitor</td>\n",
       "      <td>1</td>\n",
       "      <td>389.99</td>\n",
       "      <td>389.99</td>\n",
       "      <td>AAA Batteries (4-pack)</td>\n",
       "      <td>1</td>\n",
       "      <td>2.99</td>\n",
       "      <td>2.99</td>\n",
       "      <td>2</td>\n",
       "      <td>2</td>\n",
       "    </tr>\n",
       "    <tr>\n",
       "      <th>94</th>\n",
       "      <td>2019-04-27 12:20:00</td>\n",
       "      <td>Bose SoundSport Headphones</td>\n",
       "      <td>1</td>\n",
       "      <td>99.99</td>\n",
       "      <td>99.99</td>\n",
       "      <td>AAA Batteries (4-pack)</td>\n",
       "      <td>1</td>\n",
       "      <td>2.99</td>\n",
       "      <td>2.99</td>\n",
       "      <td>2</td>\n",
       "      <td>2</td>\n",
       "    </tr>\n",
       "    <tr>\n",
       "      <th>...</th>\n",
       "      <td>...</td>\n",
       "      <td>...</td>\n",
       "      <td>...</td>\n",
       "      <td>...</td>\n",
       "      <td>...</td>\n",
       "      <td>...</td>\n",
       "      <td>...</td>\n",
       "      <td>...</td>\n",
       "      <td>...</td>\n",
       "      <td>...</td>\n",
       "      <td>...</td>\n",
       "    </tr>\n",
       "    <tr>\n",
       "      <th>294758</th>\n",
       "      <td>2019-09-18 01:00:00</td>\n",
       "      <td>USB-C Charging Cable</td>\n",
       "      <td>1</td>\n",
       "      <td>11.95</td>\n",
       "      <td>11.95</td>\n",
       "      <td>AAA Batteries (4-pack)</td>\n",
       "      <td>1</td>\n",
       "      <td>2.99</td>\n",
       "      <td>2.99</td>\n",
       "      <td>2</td>\n",
       "      <td>2</td>\n",
       "    </tr>\n",
       "    <tr>\n",
       "      <th>294873</th>\n",
       "      <td>2019-09-08 21:15:00</td>\n",
       "      <td>AAA Batteries (4-pack)</td>\n",
       "      <td>2</td>\n",
       "      <td>2.99</td>\n",
       "      <td>5.98</td>\n",
       "      <td>AA Batteries (4-pack)</td>\n",
       "      <td>1</td>\n",
       "      <td>3.84</td>\n",
       "      <td>3.84</td>\n",
       "      <td>3</td>\n",
       "      <td>3</td>\n",
       "    </tr>\n",
       "    <tr>\n",
       "      <th>294874</th>\n",
       "      <td>2019-09-08 21:15:00</td>\n",
       "      <td>AA Batteries (4-pack)</td>\n",
       "      <td>1</td>\n",
       "      <td>3.84</td>\n",
       "      <td>3.84</td>\n",
       "      <td>AAA Batteries (4-pack)</td>\n",
       "      <td>2</td>\n",
       "      <td>2.99</td>\n",
       "      <td>5.98</td>\n",
       "      <td>3</td>\n",
       "      <td>3</td>\n",
       "    </tr>\n",
       "    <tr>\n",
       "      <th>294997</th>\n",
       "      <td>2019-09-19 18:03:00</td>\n",
       "      <td>Bose SoundSport Headphones</td>\n",
       "      <td>1</td>\n",
       "      <td>99.99</td>\n",
       "      <td>99.99</td>\n",
       "      <td>AA Batteries (4-pack)</td>\n",
       "      <td>2</td>\n",
       "      <td>3.84</td>\n",
       "      <td>7.68</td>\n",
       "      <td>3</td>\n",
       "      <td>3</td>\n",
       "    </tr>\n",
       "    <tr>\n",
       "      <th>295024</th>\n",
       "      <td>2019-09-20 20:18:00</td>\n",
       "      <td>34in Ultrawide Monitor</td>\n",
       "      <td>1</td>\n",
       "      <td>379.99</td>\n",
       "      <td>379.99</td>\n",
       "      <td>AA Batteries (4-pack)</td>\n",
       "      <td>1</td>\n",
       "      <td>3.84</td>\n",
       "      <td>3.84</td>\n",
       "      <td>2</td>\n",
       "      <td>2</td>\n",
       "    </tr>\n",
       "  </tbody>\n",
       "</table>\n",
       "<p>20033 rows × 11 columns</p>\n",
       "</div>"
      ],
      "text/plain": [
       "                Order Date                   Product_l  Quantity Ordered_l  \\\n",
       "5      2019-04-07 22:30:00  Bose SoundSport Headphones                   1   \n",
       "31     2019-04-12 10:58:00        USB-C Charging Cable                   1   \n",
       "34     2019-04-12 10:58:00      27in 4K Gaming Monitor                   1   \n",
       "64     2019-04-16 19:23:00      27in 4K Gaming Monitor                   1   \n",
       "94     2019-04-27 12:20:00  Bose SoundSport Headphones                   1   \n",
       "...                    ...                         ...                 ...   \n",
       "294758 2019-09-18 01:00:00        USB-C Charging Cable                   1   \n",
       "294873 2019-09-08 21:15:00      AAA Batteries (4-pack)                   2   \n",
       "294874 2019-09-08 21:15:00       AA Batteries (4-pack)                   1   \n",
       "294997 2019-09-19 18:03:00  Bose SoundSport Headphones                   1   \n",
       "295024 2019-09-20 20:18:00      34in Ultrawide Monitor                   1   \n",
       "\n",
       "        Price Each_l  Bill Amount_l               Product_r  \\\n",
       "5              99.99          99.99   AA Batteries (4-pack)   \n",
       "31             11.95          11.95   AA Batteries (4-pack)   \n",
       "34            389.99         389.99   AA Batteries (4-pack)   \n",
       "64            389.99         389.99  AAA Batteries (4-pack)   \n",
       "94             99.99          99.99  AAA Batteries (4-pack)   \n",
       "...              ...            ...                     ...   \n",
       "294758         11.95          11.95  AAA Batteries (4-pack)   \n",
       "294873          2.99           5.98   AA Batteries (4-pack)   \n",
       "294874          3.84           3.84  AAA Batteries (4-pack)   \n",
       "294997         99.99          99.99   AA Batteries (4-pack)   \n",
       "295024        379.99         379.99   AA Batteries (4-pack)   \n",
       "\n",
       "        Quantity Ordered_r  Price Each_r  Bill Amount_r  tqo_lr  tba_lr  \n",
       "5                        1          3.84           3.84       2       2  \n",
       "31                       1          3.84           3.84       2       2  \n",
       "34                       1          3.84           3.84       2       2  \n",
       "64                       1          2.99           2.99       2       2  \n",
       "94                       1          2.99           2.99       2       2  \n",
       "...                    ...           ...            ...     ...     ...  \n",
       "294758                   1          2.99           2.99       2       2  \n",
       "294873                   1          3.84           3.84       3       3  \n",
       "294874                   2          2.99           5.98       3       3  \n",
       "294997                   2          3.84           7.68       3       3  \n",
       "295024                   1          3.84           3.84       2       2  \n",
       "\n",
       "[20033 rows x 11 columns]"
      ]
     },
     "execution_count": 52,
     "metadata": {},
     "output_type": "execute_result"
    }
   ],
   "source": [
    "final_merge.loc[final_merge['Product_r'].str.find('AA')>-1]"
   ]
  },
  {
   "cell_type": "markdown",
   "id": "f58a7d7c",
   "metadata": {},
   "source": [
    "# DAY 22"
   ]
  },
  {
   "cell_type": "code",
   "execution_count": null,
   "id": "885eee73",
   "metadata": {},
   "outputs": [],
   "source": []
  }
 ],
 "metadata": {
  "kernelspec": {
   "display_name": "Python 3 (ipykernel)",
   "language": "python",
   "name": "python3"
  },
  "language_info": {
   "codemirror_mode": {
    "name": "ipython",
    "version": 3
   },
   "file_extension": ".py",
   "mimetype": "text/x-python",
   "name": "python",
   "nbconvert_exporter": "python",
   "pygments_lexer": "ipython3",
   "version": "3.11.5"
  }
 },
 "nbformat": 4,
 "nbformat_minor": 5
}
